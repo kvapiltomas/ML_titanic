{
 "cells": [
  {
   "cell_type": "code",
   "execution_count": 1,
   "id": "89ab1973",
   "metadata": {
    "_cell_guid": "b1076dfc-b9ad-4769-8c92-a6c4dae69d19",
    "_uuid": "8f2839f25d086af736a60e9eeb907d3b93b6e0e5",
    "execution": {
     "iopub.execute_input": "2022-06-18T19:09:37.323450Z",
     "iopub.status.busy": "2022-06-18T19:09:37.322868Z",
     "iopub.status.idle": "2022-06-18T19:09:38.915379Z",
     "shell.execute_reply": "2022-06-18T19:09:38.914253Z"
    },
    "papermill": {
     "duration": 1.632145,
     "end_time": "2022-06-18T19:09:38.918580",
     "exception": false,
     "start_time": "2022-06-18T19:09:37.286435",
     "status": "completed"
    },
    "tags": []
   },
   "outputs": [
    {
     "name": "stdout",
     "output_type": "stream",
     "text": [
      "/kaggle/input/titanic/train.csv\n",
      "/kaggle/input/titanic/test.csv\n",
      "/kaggle/input/titanic/gender_submission.csv\n"
     ]
    }
   ],
   "source": [
    "import time\n",
    "\n",
    "import numpy as np # linear algebra\n",
    "import pandas as pd # data processing, CSV file I/O (e.g. pd.read_csv)\n",
    "import missingno\n",
    "import matplotlib.pyplot as plt\n",
    "import math\n",
    "import seaborn as sns\n",
    "\n",
    "from sklearn.preprocessing import LabelEncoder\n",
    "\n",
    "\n",
    "from sklearn import datasets, model_selection, tree, preprocessing, metrics, linear_model\n",
    "from sklearn.linear_model import LinearRegression, LogisticRegression, Ridge, Lasso, SGDClassifier\n",
    "from sklearn.neighbors import KNeighborsClassifier\n",
    "from sklearn.tree import DecisionTreeClassifier\n",
    "from sklearn.ensemble import RandomForestClassifier\n",
    "from sklearn.ensemble import GradientBoostingClassifier\n",
    "from sklearn.naive_bayes import GaussianNB\n",
    "from sklearn.svm import LinearSVC\n",
    "\n",
    "pd.set_option('display.max_rows', None)\n",
    "pd.set_option('display.max_columns', None)\n",
    "pd.set_option('display.width', 1000)\n",
    "\n",
    "import warnings\n",
    "warnings.filterwarnings('ignore')\n",
    "\n",
    "\n",
    "import os\n",
    "for dirname, _, filenames in os.walk('/kaggle/input'):\n",
    "    for filename in filenames:\n",
    "        print(os.path.join(dirname, filename))\n"
   ]
  },
  {
   "cell_type": "code",
   "execution_count": 2,
   "id": "2c4e0d3f",
   "metadata": {
    "execution": {
     "iopub.execute_input": "2022-06-18T19:09:38.976999Z",
     "iopub.status.busy": "2022-06-18T19:09:38.976396Z",
     "iopub.status.idle": "2022-06-18T19:09:38.980911Z",
     "shell.execute_reply": "2022-06-18T19:09:38.980247Z"
    },
    "papermill": {
     "duration": 0.034662,
     "end_time": "2022-06-18T19:09:38.983206",
     "exception": false,
     "start_time": "2022-06-18T19:09:38.948544",
     "status": "completed"
    },
    "tags": []
   },
   "outputs": [],
   "source": [
    "TRAIN_PATH = '../input/titanic/train.csv'\n",
    "TEST_PATH = '../input/titanic/test.csv'"
   ]
  },
  {
   "cell_type": "markdown",
   "id": "eafcae99",
   "metadata": {
    "papermill": {
     "duration": 0.025611,
     "end_time": "2022-06-18T19:09:39.034646",
     "exception": false,
     "start_time": "2022-06-18T19:09:39.009035",
     "status": "completed"
    },
    "tags": []
   },
   "source": [
    "**Target:** \n",
    "For each passenger in the test set to predict whether or not they survived the sinking of the Titanic.\n",
    "\n",
    "**Prediction problem:**\n",
    "Classification\n",
    "\n",
    "**Data Dictionary:**\n",
    "\n",
    "survival -> Survival ->\t0 = No, 1 = Yes\n",
    "pclass -> Ticket class -> 1 = 1st, 2 = 2nd, 3 = 3rd\n",
    "sex -> Sex\t\n",
    "Age -> Age in years\t\n",
    "sibsp -> # of siblings / spouses aboard the Titanic\t\n",
    "parch ->\t# of parents / children aboard the Titanic\t\n",
    "ticket -> Ticket number\t\n",
    "fare ->\tPassenger fare\t\n",
    "cabin -> Cabin number\t\n",
    "embarked ->\tPort of Embarkation\tC = Cherbourg, Q = Queenstown, S = Southampton\n",
    "\n",
    "**Variable Notes:**\n",
    "\n",
    "pclass: A proxy for socio-economic status (SES)\n",
    "1st = Upper\n",
    "2nd = Middle\n",
    "3rd = Lower\n",
    "\n",
    "age: Age is fractional if less than 1. If the age is estimated, is it in the form of xx.5\n",
    "\n",
    "sibsp: The dataset defines family relations in this way...\n",
    "Sibling = brother, sister, stepbrother, stepsister\n",
    "Spouse = husband, wife (mistresses and fiancés were ignored)\n",
    "\n",
    "parch: The dataset defines family relations in this way...\n",
    "Parent = mother, father\n",
    "Child = daughter, son, stepdaughter, stepson\n",
    "Some children travelled only with a nanny, therefore parch=0 for them."
   ]
  },
  {
   "cell_type": "markdown",
   "id": "b5340ced",
   "metadata": {
    "papermill": {
     "duration": 0.02536,
     "end_time": "2022-06-18T19:09:39.086166",
     "exception": false,
     "start_time": "2022-06-18T19:09:39.060806",
     "status": "completed"
    },
    "tags": []
   },
   "source": [
    "# Load of data sets"
   ]
  },
  {
   "cell_type": "code",
   "execution_count": 3,
   "id": "83dce336",
   "metadata": {
    "execution": {
     "iopub.execute_input": "2022-06-18T19:09:39.140544Z",
     "iopub.status.busy": "2022-06-18T19:09:39.139937Z",
     "iopub.status.idle": "2022-06-18T19:09:39.168889Z",
     "shell.execute_reply": "2022-06-18T19:09:39.168079Z"
    },
    "papermill": {
     "duration": 0.059226,
     "end_time": "2022-06-18T19:09:39.170984",
     "exception": false,
     "start_time": "2022-06-18T19:09:39.111758",
     "status": "completed"
    },
    "tags": []
   },
   "outputs": [
    {
     "name": "stdout",
     "output_type": "stream",
     "text": [
      "Shape of dataframe: (891, 12)\n",
      "Shape of dataframe: (418, 11)\n"
     ]
    }
   ],
   "source": [
    "#Load of data sets\n",
    "def read_file(path = '', use_cols = None):\n",
    "    if use_cols is not None: \n",
    "        df = pd.read_csv(path, columns = use_cols)\n",
    "    else:\n",
    "        df = pd.read_csv(path)\n",
    "    print('Shape of dataframe: {}'.format(df.shape))\n",
    "    \n",
    "    return df\n",
    "\n",
    "train_df = read_file(TRAIN_PATH)\n",
    "test_df = read_file(TEST_PATH)"
   ]
  },
  {
   "cell_type": "markdown",
   "id": "38413578",
   "metadata": {
    "papermill": {
     "duration": 0.025792,
     "end_time": "2022-06-18T19:09:39.223058",
     "exception": false,
     "start_time": "2022-06-18T19:09:39.197266",
     "status": "completed"
    },
    "tags": []
   },
   "source": [
    "# Data Exploration\n",
    "1. Univariate\n",
    "2. Bi-variate"
   ]
  },
  {
   "cell_type": "code",
   "execution_count": 4,
   "id": "b0cca7c2",
   "metadata": {
    "execution": {
     "iopub.execute_input": "2022-06-18T19:09:39.276913Z",
     "iopub.status.busy": "2022-06-18T19:09:39.276486Z",
     "iopub.status.idle": "2022-06-18T19:09:39.301089Z",
     "shell.execute_reply": "2022-06-18T19:09:39.300263Z"
    },
    "papermill": {
     "duration": 0.054209,
     "end_time": "2022-06-18T19:09:39.303021",
     "exception": false,
     "start_time": "2022-06-18T19:09:39.248812",
     "status": "completed"
    },
    "tags": []
   },
   "outputs": [
    {
     "data": {
      "text/html": [
       "<div>\n",
       "<style scoped>\n",
       "    .dataframe tbody tr th:only-of-type {\n",
       "        vertical-align: middle;\n",
       "    }\n",
       "\n",
       "    .dataframe tbody tr th {\n",
       "        vertical-align: top;\n",
       "    }\n",
       "\n",
       "    .dataframe thead th {\n",
       "        text-align: right;\n",
       "    }\n",
       "</style>\n",
       "<table border=\"1\" class=\"dataframe\">\n",
       "  <thead>\n",
       "    <tr style=\"text-align: right;\">\n",
       "      <th></th>\n",
       "      <th>PassengerId</th>\n",
       "      <th>Survived</th>\n",
       "      <th>Pclass</th>\n",
       "      <th>Name</th>\n",
       "      <th>Sex</th>\n",
       "      <th>Age</th>\n",
       "      <th>SibSp</th>\n",
       "      <th>Parch</th>\n",
       "      <th>Ticket</th>\n",
       "      <th>Fare</th>\n",
       "      <th>Cabin</th>\n",
       "      <th>Embarked</th>\n",
       "    </tr>\n",
       "  </thead>\n",
       "  <tbody>\n",
       "    <tr>\n",
       "      <th>0</th>\n",
       "      <td>1</td>\n",
       "      <td>0</td>\n",
       "      <td>3</td>\n",
       "      <td>Braund, Mr. Owen Harris</td>\n",
       "      <td>male</td>\n",
       "      <td>22.0</td>\n",
       "      <td>1</td>\n",
       "      <td>0</td>\n",
       "      <td>A/5 21171</td>\n",
       "      <td>7.2500</td>\n",
       "      <td>NaN</td>\n",
       "      <td>S</td>\n",
       "    </tr>\n",
       "    <tr>\n",
       "      <th>1</th>\n",
       "      <td>2</td>\n",
       "      <td>1</td>\n",
       "      <td>1</td>\n",
       "      <td>Cumings, Mrs. John Bradley (Florence Briggs Th...</td>\n",
       "      <td>female</td>\n",
       "      <td>38.0</td>\n",
       "      <td>1</td>\n",
       "      <td>0</td>\n",
       "      <td>PC 17599</td>\n",
       "      <td>71.2833</td>\n",
       "      <td>C85</td>\n",
       "      <td>C</td>\n",
       "    </tr>\n",
       "    <tr>\n",
       "      <th>2</th>\n",
       "      <td>3</td>\n",
       "      <td>1</td>\n",
       "      <td>3</td>\n",
       "      <td>Heikkinen, Miss. Laina</td>\n",
       "      <td>female</td>\n",
       "      <td>26.0</td>\n",
       "      <td>0</td>\n",
       "      <td>0</td>\n",
       "      <td>STON/O2. 3101282</td>\n",
       "      <td>7.9250</td>\n",
       "      <td>NaN</td>\n",
       "      <td>S</td>\n",
       "    </tr>\n",
       "    <tr>\n",
       "      <th>3</th>\n",
       "      <td>4</td>\n",
       "      <td>1</td>\n",
       "      <td>1</td>\n",
       "      <td>Futrelle, Mrs. Jacques Heath (Lily May Peel)</td>\n",
       "      <td>female</td>\n",
       "      <td>35.0</td>\n",
       "      <td>1</td>\n",
       "      <td>0</td>\n",
       "      <td>113803</td>\n",
       "      <td>53.1000</td>\n",
       "      <td>C123</td>\n",
       "      <td>S</td>\n",
       "    </tr>\n",
       "    <tr>\n",
       "      <th>4</th>\n",
       "      <td>5</td>\n",
       "      <td>0</td>\n",
       "      <td>3</td>\n",
       "      <td>Allen, Mr. William Henry</td>\n",
       "      <td>male</td>\n",
       "      <td>35.0</td>\n",
       "      <td>0</td>\n",
       "      <td>0</td>\n",
       "      <td>373450</td>\n",
       "      <td>8.0500</td>\n",
       "      <td>NaN</td>\n",
       "      <td>S</td>\n",
       "    </tr>\n",
       "  </tbody>\n",
       "</table>\n",
       "</div>"
      ],
      "text/plain": [
       "   PassengerId  Survived  Pclass                                               Name     Sex   Age  SibSp  Parch            Ticket     Fare Cabin Embarked\n",
       "0            1         0       3                            Braund, Mr. Owen Harris    male  22.0      1      0         A/5 21171   7.2500   NaN        S\n",
       "1            2         1       1  Cumings, Mrs. John Bradley (Florence Briggs Th...  female  38.0      1      0          PC 17599  71.2833   C85        C\n",
       "2            3         1       3                             Heikkinen, Miss. Laina  female  26.0      0      0  STON/O2. 3101282   7.9250   NaN        S\n",
       "3            4         1       1       Futrelle, Mrs. Jacques Heath (Lily May Peel)  female  35.0      1      0            113803  53.1000  C123        S\n",
       "4            5         0       3                           Allen, Mr. William Henry    male  35.0      0      0            373450   8.0500   NaN        S"
      ]
     },
     "execution_count": 4,
     "metadata": {},
     "output_type": "execute_result"
    }
   ],
   "source": [
    "train_df.head()"
   ]
  },
  {
   "cell_type": "code",
   "execution_count": 5,
   "id": "15783bfc",
   "metadata": {
    "execution": {
     "iopub.execute_input": "2022-06-18T19:09:39.357637Z",
     "iopub.status.busy": "2022-06-18T19:09:39.357227Z",
     "iopub.status.idle": "2022-06-18T19:09:39.373887Z",
     "shell.execute_reply": "2022-06-18T19:09:39.372917Z"
    },
    "papermill": {
     "duration": 0.046751,
     "end_time": "2022-06-18T19:09:39.375999",
     "exception": false,
     "start_time": "2022-06-18T19:09:39.329248",
     "status": "completed"
    },
    "tags": []
   },
   "outputs": [
    {
     "data": {
      "text/html": [
       "<div>\n",
       "<style scoped>\n",
       "    .dataframe tbody tr th:only-of-type {\n",
       "        vertical-align: middle;\n",
       "    }\n",
       "\n",
       "    .dataframe tbody tr th {\n",
       "        vertical-align: top;\n",
       "    }\n",
       "\n",
       "    .dataframe thead th {\n",
       "        text-align: right;\n",
       "    }\n",
       "</style>\n",
       "<table border=\"1\" class=\"dataframe\">\n",
       "  <thead>\n",
       "    <tr style=\"text-align: right;\">\n",
       "      <th></th>\n",
       "      <th>PassengerId</th>\n",
       "      <th>Pclass</th>\n",
       "      <th>Name</th>\n",
       "      <th>Sex</th>\n",
       "      <th>Age</th>\n",
       "      <th>SibSp</th>\n",
       "      <th>Parch</th>\n",
       "      <th>Ticket</th>\n",
       "      <th>Fare</th>\n",
       "      <th>Cabin</th>\n",
       "      <th>Embarked</th>\n",
       "    </tr>\n",
       "  </thead>\n",
       "  <tbody>\n",
       "    <tr>\n",
       "      <th>0</th>\n",
       "      <td>892</td>\n",
       "      <td>3</td>\n",
       "      <td>Kelly, Mr. James</td>\n",
       "      <td>male</td>\n",
       "      <td>34.5</td>\n",
       "      <td>0</td>\n",
       "      <td>0</td>\n",
       "      <td>330911</td>\n",
       "      <td>7.8292</td>\n",
       "      <td>NaN</td>\n",
       "      <td>Q</td>\n",
       "    </tr>\n",
       "    <tr>\n",
       "      <th>1</th>\n",
       "      <td>893</td>\n",
       "      <td>3</td>\n",
       "      <td>Wilkes, Mrs. James (Ellen Needs)</td>\n",
       "      <td>female</td>\n",
       "      <td>47.0</td>\n",
       "      <td>1</td>\n",
       "      <td>0</td>\n",
       "      <td>363272</td>\n",
       "      <td>7.0000</td>\n",
       "      <td>NaN</td>\n",
       "      <td>S</td>\n",
       "    </tr>\n",
       "    <tr>\n",
       "      <th>2</th>\n",
       "      <td>894</td>\n",
       "      <td>2</td>\n",
       "      <td>Myles, Mr. Thomas Francis</td>\n",
       "      <td>male</td>\n",
       "      <td>62.0</td>\n",
       "      <td>0</td>\n",
       "      <td>0</td>\n",
       "      <td>240276</td>\n",
       "      <td>9.6875</td>\n",
       "      <td>NaN</td>\n",
       "      <td>Q</td>\n",
       "    </tr>\n",
       "    <tr>\n",
       "      <th>3</th>\n",
       "      <td>895</td>\n",
       "      <td>3</td>\n",
       "      <td>Wirz, Mr. Albert</td>\n",
       "      <td>male</td>\n",
       "      <td>27.0</td>\n",
       "      <td>0</td>\n",
       "      <td>0</td>\n",
       "      <td>315154</td>\n",
       "      <td>8.6625</td>\n",
       "      <td>NaN</td>\n",
       "      <td>S</td>\n",
       "    </tr>\n",
       "    <tr>\n",
       "      <th>4</th>\n",
       "      <td>896</td>\n",
       "      <td>3</td>\n",
       "      <td>Hirvonen, Mrs. Alexander (Helga E Lindqvist)</td>\n",
       "      <td>female</td>\n",
       "      <td>22.0</td>\n",
       "      <td>1</td>\n",
       "      <td>1</td>\n",
       "      <td>3101298</td>\n",
       "      <td>12.2875</td>\n",
       "      <td>NaN</td>\n",
       "      <td>S</td>\n",
       "    </tr>\n",
       "  </tbody>\n",
       "</table>\n",
       "</div>"
      ],
      "text/plain": [
       "   PassengerId  Pclass                                          Name     Sex   Age  SibSp  Parch   Ticket     Fare Cabin Embarked\n",
       "0          892       3                              Kelly, Mr. James    male  34.5      0      0   330911   7.8292   NaN        Q\n",
       "1          893       3              Wilkes, Mrs. James (Ellen Needs)  female  47.0      1      0   363272   7.0000   NaN        S\n",
       "2          894       2                     Myles, Mr. Thomas Francis    male  62.0      0      0   240276   9.6875   NaN        Q\n",
       "3          895       3                              Wirz, Mr. Albert    male  27.0      0      0   315154   8.6625   NaN        S\n",
       "4          896       3  Hirvonen, Mrs. Alexander (Helga E Lindqvist)  female  22.0      1      1  3101298  12.2875   NaN        S"
      ]
     },
     "execution_count": 5,
     "metadata": {},
     "output_type": "execute_result"
    }
   ],
   "source": [
    "test_df.head()"
   ]
  },
  {
   "cell_type": "code",
   "execution_count": 6,
   "id": "02fc22f2",
   "metadata": {
    "execution": {
     "iopub.execute_input": "2022-06-18T19:09:39.431879Z",
     "iopub.status.busy": "2022-06-18T19:09:39.430872Z",
     "iopub.status.idle": "2022-06-18T19:09:39.539914Z",
     "shell.execute_reply": "2022-06-18T19:09:39.538702Z"
    },
    "papermill": {
     "duration": 0.140807,
     "end_time": "2022-06-18T19:09:39.543656",
     "exception": false,
     "start_time": "2022-06-18T19:09:39.402849",
     "status": "completed"
    },
    "tags": []
   },
   "outputs": [
    {
     "name": "stdout",
     "output_type": "stream",
     "text": [
      "TRAIN_DF SUMMARY \n",
      "\n",
      "          column data_type  unique values  missing values  non_missing values  missing_%\n",
      "0   PassengerId     int64            891               0                 891   0.000000\n",
      "1      Survived     int64              2               0                 891   0.000000\n",
      "2        Pclass     int64              3               0                 891   0.000000\n",
      "3          Name    object            891               0                 891   0.000000\n",
      "4           Sex    object              2               0                 891   0.000000\n",
      "5           Age   float64             88             177                 714  19.865320\n",
      "6         SibSp     int64              7               0                 891   0.000000\n",
      "7         Parch     int64              7               0                 891   0.000000\n",
      "8        Ticket    object            681               0                 891   0.000000\n",
      "9          Fare   float64            248               0                 891   0.000000\n",
      "10        Cabin    object            147             687                 204  77.104377\n",
      "11     Embarked    object              3               2                 889   0.224467\n",
      "\n",
      " Describe the numerical features:\n",
      "\n",
      "       PassengerId    Survived      Pclass         Age       SibSp       Parch        Fare\n",
      "count   891.000000  891.000000  891.000000  714.000000  891.000000  891.000000  891.000000\n",
      "mean    446.000000    0.383838    2.308642   29.699118    0.523008    0.381594   32.204208\n",
      "std     257.353842    0.486592    0.836071   14.526497    1.102743    0.806057   49.693429\n",
      "min       1.000000    0.000000    1.000000    0.420000    0.000000    0.000000    0.000000\n",
      "25%     223.500000    0.000000    2.000000   20.125000    0.000000    0.000000    7.910400\n",
      "50%     446.000000    0.000000    3.000000   28.000000    0.000000    0.000000   14.454200\n",
      "75%     668.500000    1.000000    3.000000   38.000000    1.000000    0.000000   31.000000\n",
      "max     891.000000    1.000000    3.000000   80.000000    8.000000    6.000000  512.329200 \n",
      "\n",
      " Describe the categorical features:\n",
      "\n",
      "                            Name   Sex  Ticket    Cabin Embarked\n",
      "count                       891   891     891      204      889\n",
      "unique                      891     2     681      147        3\n",
      "top     Braund, Mr. Owen Harris  male  347082  B96 B98        S\n",
      "freq                          1   577       7        4      644\n",
      "\n",
      "\n",
      "TEST_DF SUMMARY \n",
      "\n",
      "          column data_type  unique values  missing values  non_missing values  missing_%\n",
      "0   PassengerId     int64            418               0                 418   0.000000\n",
      "1        Pclass     int64              3               0                 418   0.000000\n",
      "2          Name    object            418               0                 418   0.000000\n",
      "3           Sex    object              2               0                 418   0.000000\n",
      "4           Age   float64             79              86                 332  20.574163\n",
      "5         SibSp     int64              7               0                 418   0.000000\n",
      "6         Parch     int64              8               0                 418   0.000000\n",
      "7        Ticket    object            363               0                 418   0.000000\n",
      "8          Fare   float64            169               1                 417   0.239234\n",
      "9         Cabin    object             76             327                  91  78.229665\n",
      "10     Embarked    object              3               0                 418   0.000000\n",
      "\n",
      " Describe the numerical features:\n",
      "\n",
      "       PassengerId      Pclass         Age       SibSp       Parch        Fare\n",
      "count   418.000000  418.000000  332.000000  418.000000  418.000000  417.000000\n",
      "mean   1100.500000    2.265550   30.272590    0.447368    0.392344   35.627188\n",
      "std     120.810458    0.841838   14.181209    0.896760    0.981429   55.907576\n",
      "min     892.000000    1.000000    0.170000    0.000000    0.000000    0.000000\n",
      "25%     996.250000    1.000000   21.000000    0.000000    0.000000    7.895800\n",
      "50%    1100.500000    3.000000   27.000000    0.000000    0.000000   14.454200\n",
      "75%    1204.750000    3.000000   39.000000    1.000000    0.000000   31.500000\n",
      "max    1309.000000    3.000000   76.000000    8.000000    9.000000  512.329200 \n",
      "\n",
      " Describe the categorical features:\n",
      "\n",
      "                     Name   Sex    Ticket            Cabin Embarked\n",
      "count                418   418       418               91      418\n",
      "unique               418     2       363               76        3\n",
      "top     Kelly, Mr. James  male  PC 17608  B57 B59 B63 B66        S\n",
      "freq                   1   266         5                3      270\n",
      "\n",
      "\n"
     ]
    }
   ],
   "source": [
    "def info_summary(dataset):\n",
    "    output = []\n",
    "    df_name = [x for x in globals() if globals()[x] is dataset][0]\n",
    "    for col in dataset.columns:\n",
    "        d_type = dataset[col].dtype\n",
    "        unique = dataset[col].nunique()\n",
    "        na = dataset[col].isna().sum()\n",
    "        non_missing = len(dataset[col]) - na\n",
    "        missing_percentage = (na / len(dataset[col])) * 100\n",
    "        output.append([col, d_type, unique, na, non_missing, missing_percentage])\n",
    "    df_info = pd.DataFrame(output, columns = ['column', 'data_type', 'unique values', 'missing values', 'non_missing values', 'missing_%'])\n",
    "    print('{name} SUMMARY \\n\\n {df}\\n\\n Describe the numerical features:\\n\\n{describe} \\n\\n Describe the categorical features:\\n\\n {cat_describe}\\n\\n'.format(name = df_name.upper(), df = df_info, describe = dataset.describe(), cat_describe = dataset.describe(include=['O'])))\n",
    "    \n",
    "info_summary(train_df)\n",
    "info_summary(test_df)"
   ]
  },
  {
   "cell_type": "code",
   "execution_count": 7,
   "id": "29e43b1c",
   "metadata": {
    "execution": {
     "iopub.execute_input": "2022-06-18T19:09:39.599440Z",
     "iopub.status.busy": "2022-06-18T19:09:39.599056Z",
     "iopub.status.idle": "2022-06-18T19:09:40.228258Z",
     "shell.execute_reply": "2022-06-18T19:09:40.227022Z"
    },
    "papermill": {
     "duration": 0.659478,
     "end_time": "2022-06-18T19:09:40.230480",
     "exception": false,
     "start_time": "2022-06-18T19:09:39.571002",
     "status": "completed"
    },
    "tags": []
   },
   "outputs": [
    {
     "data": {
      "text/plain": [
       "<AxesSubplot:>"
      ]
     },
     "execution_count": 7,
     "metadata": {},
     "output_type": "execute_result"
    },
    {
     "data": {
      "image/png": "[encoded data removed]",
      "text/plain": [
       "<Figure size 2880x720 with 2 Axes>"
      ]
     },
     "metadata": {
      "needs_background": "light"
     },
     "output_type": "display_data"
    }
   ],
   "source": [
    "#Visualization of missing values\n",
    "missingno.matrix(train_df, figsize = (40, 10))"
   ]
  },
  {
   "cell_type": "code",
   "execution_count": 8,
   "id": "5b899dc6",
   "metadata": {
    "execution": {
     "iopub.execute_input": "2022-06-18T19:09:40.289401Z",
     "iopub.status.busy": "2022-06-18T19:09:40.288292Z",
     "iopub.status.idle": "2022-06-18T19:10:06.413893Z",
     "shell.execute_reply": "2022-06-18T19:10:06.412754Z"
    },
    "papermill": {
     "duration": 26.15963,
     "end_time": "2022-06-18T19:10:06.418539",
     "exception": false,
     "start_time": "2022-06-18T19:09:40.258909",
     "status": "completed"
    },
    "tags": []
   },
   "outputs": [
    {
     "data": {
      "image/png": "[encoded data removed]",
      "text/plain": [
       "<Figure size 1440x1440 with 12 Axes>"
      ]
     },
     "metadata": {},
     "output_type": "display_data"
    }
   ],
   "source": [
    "def plot_distribution(data, cols = 5, height = 20, width = 20, hspace=0.45, wspace=0.5):\n",
    "    plt.style.use('seaborn-whitegrid')\n",
    "    fig = plt.figure(figsize=(width,height))\n",
    "    fig.subplots_adjust(left=None, bottom=None, right=None, top=None, wspace=wspace, hspace=hspace)\n",
    "    rows = math.ceil(float(data.shape[1]) / cols)\n",
    "    for i, column in enumerate(data.columns):\n",
    "        ax = fig.add_subplot(rows, cols, i + 1)\n",
    "        ax.set_title(column)\n",
    "        if data.dtypes[column] == np.object:\n",
    "            g = sns.countplot(y=column, data=data)\n",
    "            substrings = [s.get_text()[:15] for s in g.get_yticklabels()]\n",
    "            g.set(yticklabels=substrings)\n",
    "            plt.xticks(rotation=25)\n",
    "        else:\n",
    "            g = sns.distplot(data[column])\n",
    "            plt.xticks(rotation=25)\n",
    "    \n",
    "plot_distribution(train_df, cols=3, height=20, width=20, hspace=0.45, wspace=0.5)"
   ]
  },
  {
   "cell_type": "markdown",
   "id": "51e7d880",
   "metadata": {
    "papermill": {
     "duration": 0.032,
     "end_time": "2022-06-18T19:10:06.481471",
     "exception": false,
     "start_time": "2022-06-18T19:10:06.449471",
     "status": "completed"
    },
    "tags": []
   },
   "source": [
    "# FEATURE ENGINEERING\n",
    ">*Feature engineering is the process of transforming raw data into features that better represent the underlying problem to the predictive models, resulting in improved model accuracy on unseen data. Source: [https://machinelearningmastery.com/discover-feature-engineering-how-to-engineer-features-and-how-to-get-good-at-it/](http://)*\n",
    "\n",
    "* cleaning - missing values, outliers, discrepancies...\n",
    "* engineering - Decomposition of a Date-Time (extraction of hour,weekday,..) and Categorical Attributes, Reframing of Numerical Quantities(i.e. from minus to hours), Discretization of Continuous variables(->bins), Feature crossing(creation of new variables via combination of the current ones)\n",
    "* imputation - imputation of missing values - mean, mode, regression, ..."
   ]
  },
  {
   "cell_type": "code",
   "execution_count": 9,
   "id": "30d43069",
   "metadata": {
    "execution": {
     "iopub.execute_input": "2022-06-18T19:10:06.544770Z",
     "iopub.status.busy": "2022-06-18T19:10:06.544375Z",
     "iopub.status.idle": "2022-06-18T19:10:06.550164Z",
     "shell.execute_reply": "2022-06-18T19:10:06.549418Z"
    },
    "papermill": {
     "duration": 0.03994,
     "end_time": "2022-06-18T19:10:06.552176",
     "exception": false,
     "start_time": "2022-06-18T19:10:06.512236",
     "status": "completed"
    },
    "tags": []
   },
   "outputs": [],
   "source": [
    "# creation of empty dataframes\n",
    "dataset_bin = pd.DataFrame()\n",
    "dataset_con = pd.DataFrame()    "
   ]
  },
  {
   "cell_type": "code",
   "execution_count": 10,
   "id": "bfd47718",
   "metadata": {
    "execution": {
     "iopub.execute_input": "2022-06-18T19:10:06.616571Z",
     "iopub.status.busy": "2022-06-18T19:10:06.615700Z",
     "iopub.status.idle": "2022-06-18T19:10:06.621166Z",
     "shell.execute_reply": "2022-06-18T19:10:06.620431Z"
    },
    "papermill": {
     "duration": 0.039746,
     "end_time": "2022-06-18T19:10:06.623216",
     "exception": false,
     "start_time": "2022-06-18T19:10:06.583470",
     "status": "completed"
    },
    "tags": []
   },
   "outputs": [],
   "source": [
    "# plotting function\n",
    "def plot_feature(feature, data):\n",
    "    plt.style.use('seaborn-whitegrid')\n",
    "    plt.figure(figsize=(20,3)) \n",
    "    sns.countplot(y=feature, data=data);\n",
    "    "
   ]
  },
  {
   "cell_type": "markdown",
   "id": "0eb8c4fb",
   "metadata": {
    "papermill": {
     "duration": 0.030449,
     "end_time": "2022-06-18T19:10:06.684722",
     "exception": false,
     "start_time": "2022-06-18T19:10:06.654273",
     "status": "completed"
    },
    "tags": []
   },
   "source": [
    "Target Feature: Survived\n",
    "* Whether the particular passenger survived or not\n",
    "* 0 - dindt survive; 1 - survived"
   ]
  },
  {
   "cell_type": "code",
   "execution_count": 11,
   "id": "4a7d4566",
   "metadata": {
    "execution": {
     "iopub.execute_input": "2022-06-18T19:10:06.748592Z",
     "iopub.status.busy": "2022-06-18T19:10:06.747742Z",
     "iopub.status.idle": "2022-06-18T19:10:06.755466Z",
     "shell.execute_reply": "2022-06-18T19:10:06.754660Z"
    },
    "papermill": {
     "duration": 0.041871,
     "end_time": "2022-06-18T19:10:06.757390",
     "exception": false,
     "start_time": "2022-06-18T19:10:06.715519",
     "status": "completed"
    },
    "tags": []
   },
   "outputs": [
    {
     "data": {
      "text/plain": [
       "0    549\n",
       "1    342\n",
       "Name: Survived, dtype: int64"
      ]
     },
     "execution_count": 11,
     "metadata": {},
     "output_type": "execute_result"
    }
   ],
   "source": [
    "train_df['Survived'].value_counts()"
   ]
  },
  {
   "cell_type": "code",
   "execution_count": 12,
   "id": "72413336",
   "metadata": {
    "execution": {
     "iopub.execute_input": "2022-06-18T19:10:06.821963Z",
     "iopub.status.busy": "2022-06-18T19:10:06.820809Z",
     "iopub.status.idle": "2022-06-18T19:10:06.827734Z",
     "shell.execute_reply": "2022-06-18T19:10:06.827008Z"
    },
    "papermill": {
     "duration": 0.04151,
     "end_time": "2022-06-18T19:10:06.830120",
     "exception": false,
     "start_time": "2022-06-18T19:10:06.788610",
     "status": "completed"
    },
    "tags": []
   },
   "outputs": [],
   "source": [
    "dataset_bin['Survived'] = dataset_con['Survived'] = train_df['Survived']"
   ]
  },
  {
   "cell_type": "code",
   "execution_count": 13,
   "id": "dacc70b9",
   "metadata": {
    "execution": {
     "iopub.execute_input": "2022-06-18T19:10:06.895918Z",
     "iopub.status.busy": "2022-06-18T19:10:06.895544Z",
     "iopub.status.idle": "2022-06-18T19:10:07.068369Z",
     "shell.execute_reply": "2022-06-18T19:10:07.067618Z"
    },
    "papermill": {
     "duration": 0.20908,
     "end_time": "2022-06-18T19:10:07.070400",
     "exception": false,
     "start_time": "2022-06-18T19:10:06.861320",
     "status": "completed"
    },
    "tags": []
   },
   "outputs": [
    {
     "data": {
      "image/png": "[encoded data removed]",
      "text/plain": [
       "<Figure size 1440x216 with 1 Axes>"
      ]
     },
     "metadata": {},
     "output_type": "display_data"
    }
   ],
   "source": [
    "plot_feature('Survived', train_df)"
   ]
  },
  {
   "cell_type": "markdown",
   "id": "19acbb17",
   "metadata": {
    "papermill": {
     "duration": 0.031913,
     "end_time": "2022-06-18T19:10:07.133169",
     "exception": false,
     "start_time": "2022-06-18T19:10:07.101256",
     "status": "completed"
    },
    "tags": []
   },
   "source": [
    "Feature: Pclass\n",
    "* no missing values\n",
    "* no outliers\n",
    "* nominal variable"
   ]
  },
  {
   "cell_type": "code",
   "execution_count": 14,
   "id": "ec2d7395",
   "metadata": {
    "execution": {
     "iopub.execute_input": "2022-06-18T19:10:07.199087Z",
     "iopub.status.busy": "2022-06-18T19:10:07.198346Z",
     "iopub.status.idle": "2022-06-18T19:10:07.207366Z",
     "shell.execute_reply": "2022-06-18T19:10:07.206301Z"
    },
    "papermill": {
     "duration": 0.045296,
     "end_time": "2022-06-18T19:10:07.209510",
     "exception": false,
     "start_time": "2022-06-18T19:10:07.164214",
     "status": "completed"
    },
    "tags": []
   },
   "outputs": [
    {
     "data": {
      "text/plain": [
       "3    491\n",
       "1    216\n",
       "2    184\n",
       "Name: Pclass, dtype: int64"
      ]
     },
     "execution_count": 14,
     "metadata": {},
     "output_type": "execute_result"
    }
   ],
   "source": [
    "train_df['Pclass'].value_counts()"
   ]
  },
  {
   "cell_type": "code",
   "execution_count": 15,
   "id": "63093444",
   "metadata": {
    "execution": {
     "iopub.execute_input": "2022-06-18T19:10:07.275282Z",
     "iopub.status.busy": "2022-06-18T19:10:07.274554Z",
     "iopub.status.idle": "2022-06-18T19:10:07.623071Z",
     "shell.execute_reply": "2022-06-18T19:10:07.622265Z"
    },
    "papermill": {
     "duration": 0.383528,
     "end_time": "2022-06-18T19:10:07.625125",
     "exception": false,
     "start_time": "2022-06-18T19:10:07.241597",
     "status": "completed"
    },
    "tags": []
   },
   "outputs": [
    {
     "data": {
      "text/plain": [
       "<seaborn.axisgrid.FacetGrid at 0x7fb1be66b3d0>"
      ]
     },
     "execution_count": 15,
     "metadata": {},
     "output_type": "execute_result"
    },
    {
     "data": {
      "image/png": "[encoded data removed]",
      "text/plain": [
       "<Figure size 360x360 with 1 Axes>"
      ]
     },
     "metadata": {},
     "output_type": "display_data"
    }
   ],
   "source": [
    "sns.displot(train_df['Pclass'])"
   ]
  },
  {
   "cell_type": "code",
   "execution_count": 16,
   "id": "89bac4dd",
   "metadata": {
    "execution": {
     "iopub.execute_input": "2022-06-18T19:10:07.691644Z",
     "iopub.status.busy": "2022-06-18T19:10:07.690590Z",
     "iopub.status.idle": "2022-06-18T19:10:07.697769Z",
     "shell.execute_reply": "2022-06-18T19:10:07.696680Z"
    },
    "papermill": {
     "duration": 0.043351,
     "end_time": "2022-06-18T19:10:07.700227",
     "exception": false,
     "start_time": "2022-06-18T19:10:07.656876",
     "status": "completed"
    },
    "tags": []
   },
   "outputs": [],
   "source": [
    "dataset_bin['Pclass'] = dataset_con['Pclass'] = train_df['Pclass']"
   ]
  },
  {
   "cell_type": "markdown",
   "id": "59b9e5c7",
   "metadata": {
    "papermill": {
     "duration": 0.031278,
     "end_time": "2022-06-18T19:10:07.763305",
     "exception": false,
     "start_time": "2022-06-18T19:10:07.732027",
     "status": "completed"
    },
    "tags": []
   },
   "source": [
    "Feature: **Name**\n",
    "\n",
    "TO-DO\n",
    "Feature crossing : \n",
    "extract title and create bins \n",
    "plus take only last names"
   ]
  },
  {
   "cell_type": "code",
   "execution_count": 17,
   "id": "da3ae252",
   "metadata": {
    "execution": {
     "iopub.execute_input": "2022-06-18T19:10:07.828331Z",
     "iopub.status.busy": "2022-06-18T19:10:07.827596Z",
     "iopub.status.idle": "2022-06-18T19:10:07.836807Z",
     "shell.execute_reply": "2022-06-18T19:10:07.835920Z"
    },
    "papermill": {
     "duration": 0.044252,
     "end_time": "2022-06-18T19:10:07.838918",
     "exception": false,
     "start_time": "2022-06-18T19:10:07.794666",
     "status": "completed"
    },
    "tags": []
   },
   "outputs": [
    {
     "data": {
      "text/plain": [
       "Braund, Mr. Owen Harris                            1\n",
       "Boulos, Mr. Hanna                                  1\n",
       "Frolicher-Stehli, Mr. Maxmillian                   1\n",
       "Gilinski, Mr. Eliezer                              1\n",
       "Murdlin, Mr. Joseph                                1\n",
       "Rintamaki, Mr. Matti                               1\n",
       "Stephenson, Mrs. Walter Bertram (Martha Eustis)    1\n",
       "Elsbury, Mr. William James                         1\n",
       "Bourke, Miss. Mary                                 1\n",
       "Chapman, Mr. John Henry                            1\n",
       "Name: Name, dtype: int64"
      ]
     },
     "execution_count": 17,
     "metadata": {},
     "output_type": "execute_result"
    }
   ],
   "source": [
    "train_df['Name'].value_counts()[:10]"
   ]
  },
  {
   "cell_type": "markdown",
   "id": "b96ab3a6",
   "metadata": {
    "papermill": {
     "duration": 0.031609,
     "end_time": "2022-06-18T19:10:07.902640",
     "exception": false,
     "start_time": "2022-06-18T19:10:07.871031",
     "status": "completed"
    },
    "tags": []
   },
   "source": [
    "Feature: **Sex**\n",
    "* no missing values\n",
    "* binary variable"
   ]
  },
  {
   "cell_type": "code",
   "execution_count": 18,
   "id": "28492920",
   "metadata": {
    "execution": {
     "iopub.execute_input": "2022-06-18T19:10:07.967713Z",
     "iopub.status.busy": "2022-06-18T19:10:07.966963Z",
     "iopub.status.idle": "2022-06-18T19:10:07.975699Z",
     "shell.execute_reply": "2022-06-18T19:10:07.974577Z"
    },
    "papermill": {
     "duration": 0.043733,
     "end_time": "2022-06-18T19:10:07.977918",
     "exception": false,
     "start_time": "2022-06-18T19:10:07.934185",
     "status": "completed"
    },
    "tags": []
   },
   "outputs": [
    {
     "data": {
      "text/plain": [
       "male      577\n",
       "female    314\n",
       "Name: Sex, dtype: int64"
      ]
     },
     "execution_count": 18,
     "metadata": {},
     "output_type": "execute_result"
    }
   ],
   "source": [
    "train_df['Sex'].value_counts()"
   ]
  },
  {
   "cell_type": "code",
   "execution_count": 19,
   "id": "23698539",
   "metadata": {
    "execution": {
     "iopub.execute_input": "2022-06-18T19:10:08.055106Z",
     "iopub.status.busy": "2022-06-18T19:10:08.054346Z",
     "iopub.status.idle": "2022-06-18T19:10:08.237402Z",
     "shell.execute_reply": "2022-06-18T19:10:08.236330Z"
    },
    "papermill": {
     "duration": 0.228927,
     "end_time": "2022-06-18T19:10:08.239629",
     "exception": false,
     "start_time": "2022-06-18T19:10:08.010702",
     "status": "completed"
    },
    "tags": []
   },
   "outputs": [
    {
     "data": {
      "image/png": "[encoded data removed]",
      "text/plain": [
       "<Figure size 1440x216 with 1 Axes>"
      ]
     },
     "metadata": {},
     "output_type": "display_data"
    }
   ],
   "source": [
    "plot_feature('Sex', train_df)"
   ]
  },
  {
   "cell_type": "code",
   "execution_count": 20,
   "id": "8aa80034",
   "metadata": {
    "execution": {
     "iopub.execute_input": "2022-06-18T19:10:08.304909Z",
     "iopub.status.busy": "2022-06-18T19:10:08.304196Z",
     "iopub.status.idle": "2022-06-18T19:10:08.310289Z",
     "shell.execute_reply": "2022-06-18T19:10:08.309535Z"
    },
    "papermill": {
     "duration": 0.041264,
     "end_time": "2022-06-18T19:10:08.312419",
     "exception": false,
     "start_time": "2022-06-18T19:10:08.271155",
     "status": "completed"
    },
    "tags": []
   },
   "outputs": [],
   "source": [
    "dataset_bin['Sex'] = dataset_con['Sex'] = train_df['Sex']"
   ]
  },
  {
   "cell_type": "code",
   "execution_count": 21,
   "id": "8fd7aaed",
   "metadata": {
    "execution": {
     "iopub.execute_input": "2022-06-18T19:10:08.378234Z",
     "iopub.status.busy": "2022-06-18T19:10:08.377594Z",
     "iopub.status.idle": "2022-06-18T19:10:08.384429Z",
     "shell.execute_reply": "2022-06-18T19:10:08.383653Z"
    },
    "papermill": {
     "duration": 0.042288,
     "end_time": "2022-06-18T19:10:08.386679",
     "exception": false,
     "start_time": "2022-06-18T19:10:08.344391",
     "status": "completed"
    },
    "tags": []
   },
   "outputs": [],
   "source": [
    "dataset_bin['Sex'] = np.where(dataset_bin['Sex'] == 'female', 1, 0)\n",
    "dataset_con['Sex'] = dataset_con['Sex']"
   ]
  },
  {
   "cell_type": "code",
   "execution_count": 22,
   "id": "aeea2654",
   "metadata": {
    "execution": {
     "iopub.execute_input": "2022-06-18T19:10:08.453150Z",
     "iopub.status.busy": "2022-06-18T19:10:08.452395Z",
     "iopub.status.idle": "2022-06-18T19:10:08.462901Z",
     "shell.execute_reply": "2022-06-18T19:10:08.461853Z"
    },
    "papermill": {
     "duration": 0.046207,
     "end_time": "2022-06-18T19:10:08.465204",
     "exception": false,
     "start_time": "2022-06-18T19:10:08.418997",
     "status": "completed"
    },
    "tags": []
   },
   "outputs": [
    {
     "data": {
      "text/html": [
       "<div>\n",
       "<style scoped>\n",
       "    .dataframe tbody tr th:only-of-type {\n",
       "        vertical-align: middle;\n",
       "    }\n",
       "\n",
       "    .dataframe tbody tr th {\n",
       "        vertical-align: top;\n",
       "    }\n",
       "\n",
       "    .dataframe thead th {\n",
       "        text-align: right;\n",
       "    }\n",
       "</style>\n",
       "<table border=\"1\" class=\"dataframe\">\n",
       "  <thead>\n",
       "    <tr style=\"text-align: right;\">\n",
       "      <th></th>\n",
       "      <th>Survived</th>\n",
       "      <th>Pclass</th>\n",
       "      <th>Sex</th>\n",
       "    </tr>\n",
       "  </thead>\n",
       "  <tbody>\n",
       "    <tr>\n",
       "      <th>0</th>\n",
       "      <td>0</td>\n",
       "      <td>3</td>\n",
       "      <td>0</td>\n",
       "    </tr>\n",
       "    <tr>\n",
       "      <th>1</th>\n",
       "      <td>1</td>\n",
       "      <td>1</td>\n",
       "      <td>1</td>\n",
       "    </tr>\n",
       "    <tr>\n",
       "      <th>2</th>\n",
       "      <td>1</td>\n",
       "      <td>3</td>\n",
       "      <td>1</td>\n",
       "    </tr>\n",
       "    <tr>\n",
       "      <th>3</th>\n",
       "      <td>1</td>\n",
       "      <td>1</td>\n",
       "      <td>1</td>\n",
       "    </tr>\n",
       "    <tr>\n",
       "      <th>4</th>\n",
       "      <td>0</td>\n",
       "      <td>3</td>\n",
       "      <td>0</td>\n",
       "    </tr>\n",
       "  </tbody>\n",
       "</table>\n",
       "</div>"
      ],
      "text/plain": [
       "   Survived  Pclass  Sex\n",
       "0         0       3    0\n",
       "1         1       1    1\n",
       "2         1       3    1\n",
       "3         1       1    1\n",
       "4         0       3    0"
      ]
     },
     "execution_count": 22,
     "metadata": {},
     "output_type": "execute_result"
    }
   ],
   "source": [
    "dataset_bin.head()"
   ]
  },
  {
   "cell_type": "code",
   "execution_count": 23,
   "id": "cebb1277",
   "metadata": {
    "execution": {
     "iopub.execute_input": "2022-06-18T19:10:08.531616Z",
     "iopub.status.busy": "2022-06-18T19:10:08.530840Z",
     "iopub.status.idle": "2022-06-18T19:10:08.541552Z",
     "shell.execute_reply": "2022-06-18T19:10:08.540385Z"
    },
    "papermill": {
     "duration": 0.046062,
     "end_time": "2022-06-18T19:10:08.543642",
     "exception": false,
     "start_time": "2022-06-18T19:10:08.497580",
     "status": "completed"
    },
    "tags": []
   },
   "outputs": [
    {
     "data": {
      "text/html": [
       "<div>\n",
       "<style scoped>\n",
       "    .dataframe tbody tr th:only-of-type {\n",
       "        vertical-align: middle;\n",
       "    }\n",
       "\n",
       "    .dataframe tbody tr th {\n",
       "        vertical-align: top;\n",
       "    }\n",
       "\n",
       "    .dataframe thead th {\n",
       "        text-align: right;\n",
       "    }\n",
       "</style>\n",
       "<table border=\"1\" class=\"dataframe\">\n",
       "  <thead>\n",
       "    <tr style=\"text-align: right;\">\n",
       "      <th></th>\n",
       "      <th>Survived</th>\n",
       "      <th>Pclass</th>\n",
       "      <th>Sex</th>\n",
       "    </tr>\n",
       "  </thead>\n",
       "  <tbody>\n",
       "    <tr>\n",
       "      <th>0</th>\n",
       "      <td>0</td>\n",
       "      <td>3</td>\n",
       "      <td>male</td>\n",
       "    </tr>\n",
       "    <tr>\n",
       "      <th>1</th>\n",
       "      <td>1</td>\n",
       "      <td>1</td>\n",
       "      <td>female</td>\n",
       "    </tr>\n",
       "    <tr>\n",
       "      <th>2</th>\n",
       "      <td>1</td>\n",
       "      <td>3</td>\n",
       "      <td>female</td>\n",
       "    </tr>\n",
       "    <tr>\n",
       "      <th>3</th>\n",
       "      <td>1</td>\n",
       "      <td>1</td>\n",
       "      <td>female</td>\n",
       "    </tr>\n",
       "    <tr>\n",
       "      <th>4</th>\n",
       "      <td>0</td>\n",
       "      <td>3</td>\n",
       "      <td>male</td>\n",
       "    </tr>\n",
       "  </tbody>\n",
       "</table>\n",
       "</div>"
      ],
      "text/plain": [
       "   Survived  Pclass     Sex\n",
       "0         0       3    male\n",
       "1         1       1  female\n",
       "2         1       3  female\n",
       "3         1       1  female\n",
       "4         0       3    male"
      ]
     },
     "execution_count": 23,
     "metadata": {},
     "output_type": "execute_result"
    }
   ],
   "source": [
    "dataset_con.head()"
   ]
  },
  {
   "cell_type": "markdown",
   "id": "34f8b4e7",
   "metadata": {
    "papermill": {
     "duration": 0.031615,
     "end_time": "2022-06-18T19:10:08.607206",
     "exception": false,
     "start_time": "2022-06-18T19:10:08.575591",
     "status": "completed"
    },
    "tags": []
   },
   "source": [
    "Feature: **Age**\n",
    "* many null values\n",
    "TODO - \n",
    "Imputation - calculate age according to the title -> predict age based on title\n",
    "* to be discretionized"
   ]
  },
  {
   "cell_type": "code",
   "execution_count": 24,
   "id": "d1046c0d",
   "metadata": {
    "execution": {
     "iopub.execute_input": "2022-06-18T19:10:08.674000Z",
     "iopub.status.busy": "2022-06-18T19:10:08.673245Z",
     "iopub.status.idle": "2022-06-18T19:10:08.677745Z",
     "shell.execute_reply": "2022-06-18T19:10:08.677041Z"
    },
    "papermill": {
     "duration": 0.040321,
     "end_time": "2022-06-18T19:10:08.679880",
     "exception": false,
     "start_time": "2022-06-18T19:10:08.639559",
     "status": "completed"
    },
    "tags": []
   },
   "outputs": [],
   "source": [
    "#dataset_bin['Age'] = pd.cut(train_df['Age'], 10)\n",
    "#dataset_con['Age'] = train_df['Age']"
   ]
  },
  {
   "cell_type": "markdown",
   "id": "06cec350",
   "metadata": {
    "papermill": {
     "duration": 0.03233,
     "end_time": "2022-06-18T19:10:08.744263",
     "exception": false,
     "start_time": "2022-06-18T19:10:08.711933",
     "status": "completed"
    },
    "tags": []
   },
   "source": [
    "show graph of age bucket distributions"
   ]
  },
  {
   "cell_type": "markdown",
   "id": "6b4be00b",
   "metadata": {
    "papermill": {
     "duration": 0.0328,
     "end_time": "2022-06-18T19:10:08.809364",
     "exception": false,
     "start_time": "2022-06-18T19:10:08.776564",
     "status": "completed"
    },
    "tags": []
   },
   "source": [
    "Feature: **SibSp**\n",
    "* no missing values\n",
    "* TO-DO\n",
    " Feature crossing : create new feature - Sibling: Yes/No"
   ]
  },
  {
   "cell_type": "code",
   "execution_count": 25,
   "id": "fe9adbaf",
   "metadata": {
    "execution": {
     "iopub.execute_input": "2022-06-18T19:10:08.876806Z",
     "iopub.status.busy": "2022-06-18T19:10:08.876084Z",
     "iopub.status.idle": "2022-06-18T19:10:08.884340Z",
     "shell.execute_reply": "2022-06-18T19:10:08.883450Z"
    },
    "papermill": {
     "duration": 0.044768,
     "end_time": "2022-06-18T19:10:08.886458",
     "exception": false,
     "start_time": "2022-06-18T19:10:08.841690",
     "status": "completed"
    },
    "tags": []
   },
   "outputs": [
    {
     "data": {
      "text/plain": [
       "0    608\n",
       "1    209\n",
       "2     28\n",
       "4     18\n",
       "3     16\n",
       "8      7\n",
       "5      5\n",
       "Name: SibSp, dtype: int64"
      ]
     },
     "execution_count": 25,
     "metadata": {},
     "output_type": "execute_result"
    }
   ],
   "source": [
    "train_df['SibSp'].value_counts()"
   ]
  },
  {
   "cell_type": "code",
   "execution_count": 26,
   "id": "652d96ea",
   "metadata": {
    "execution": {
     "iopub.execute_input": "2022-06-18T19:10:08.953264Z",
     "iopub.status.busy": "2022-06-18T19:10:08.952536Z",
     "iopub.status.idle": "2022-06-18T19:10:09.116251Z",
     "shell.execute_reply": "2022-06-18T19:10:09.115464Z"
    },
    "papermill": {
     "duration": 0.200698,
     "end_time": "2022-06-18T19:10:09.119360",
     "exception": false,
     "start_time": "2022-06-18T19:10:08.918662",
     "status": "completed"
    },
    "tags": []
   },
   "outputs": [
    {
     "data": {
      "image/png": "[encoded data removed]",
      "text/plain": [
       "<Figure size 1440x216 with 1 Axes>"
      ]
     },
     "metadata": {},
     "output_type": "display_data"
    }
   ],
   "source": [
    "plot_feature('SibSp', train_df)"
   ]
  },
  {
   "cell_type": "code",
   "execution_count": 27,
   "id": "9c9bbf25",
   "metadata": {
    "execution": {
     "iopub.execute_input": "2022-06-18T19:10:09.187016Z",
     "iopub.status.busy": "2022-06-18T19:10:09.186316Z",
     "iopub.status.idle": "2022-06-18T19:10:09.192415Z",
     "shell.execute_reply": "2022-06-18T19:10:09.191711Z"
    },
    "papermill": {
     "duration": 0.042497,
     "end_time": "2022-06-18T19:10:09.194649",
     "exception": false,
     "start_time": "2022-06-18T19:10:09.152152",
     "status": "completed"
    },
    "tags": []
   },
   "outputs": [],
   "source": [
    "dataset_bin['SibSp'] = dataset_con['SibSp'] = train_df['SibSp']"
   ]
  },
  {
   "cell_type": "markdown",
   "id": "226a8677",
   "metadata": {
    "papermill": {
     "duration": 0.032584,
     "end_time": "2022-06-18T19:10:09.259411",
     "exception": false,
     "start_time": "2022-06-18T19:10:09.226827",
     "status": "completed"
    },
    "tags": []
   },
   "source": [
    "Feature: **Parch**\n",
    "* no missing values"
   ]
  },
  {
   "cell_type": "code",
   "execution_count": 28,
   "id": "f7e5f3e2",
   "metadata": {
    "execution": {
     "iopub.execute_input": "2022-06-18T19:10:09.327360Z",
     "iopub.status.busy": "2022-06-18T19:10:09.326414Z",
     "iopub.status.idle": "2022-06-18T19:10:09.335319Z",
     "shell.execute_reply": "2022-06-18T19:10:09.334304Z"
    },
    "papermill": {
     "duration": 0.045861,
     "end_time": "2022-06-18T19:10:09.337498",
     "exception": false,
     "start_time": "2022-06-18T19:10:09.291637",
     "status": "completed"
    },
    "tags": []
   },
   "outputs": [
    {
     "data": {
      "text/plain": [
       "0    678\n",
       "1    118\n",
       "2     80\n",
       "5      5\n",
       "3      5\n",
       "4      4\n",
       "6      1\n",
       "Name: Parch, dtype: int64"
      ]
     },
     "execution_count": 28,
     "metadata": {},
     "output_type": "execute_result"
    }
   ],
   "source": [
    "train_df['Parch'].value_counts()"
   ]
  },
  {
   "cell_type": "code",
   "execution_count": 29,
   "id": "20efb69b",
   "metadata": {
    "execution": {
     "iopub.execute_input": "2022-06-18T19:10:09.406099Z",
     "iopub.status.busy": "2022-06-18T19:10:09.405361Z",
     "iopub.status.idle": "2022-06-18T19:10:09.634321Z",
     "shell.execute_reply": "2022-06-18T19:10:09.632738Z"
    },
    "papermill": {
     "duration": 0.266942,
     "end_time": "2022-06-18T19:10:09.637470",
     "exception": false,
     "start_time": "2022-06-18T19:10:09.370528",
     "status": "completed"
    },
    "tags": []
   },
   "outputs": [
    {
     "data": {
      "image/png": "[encoded data removed]",
      "text/plain": [
       "<Figure size 1440x216 with 1 Axes>"
      ]
     },
     "metadata": {},
     "output_type": "display_data"
    }
   ],
   "source": [
    "plot_feature('Parch', train_df)"
   ]
  },
  {
   "cell_type": "code",
   "execution_count": 30,
   "id": "7119d957",
   "metadata": {
    "execution": {
     "iopub.execute_input": "2022-06-18T19:10:09.712373Z",
     "iopub.status.busy": "2022-06-18T19:10:09.711902Z",
     "iopub.status.idle": "2022-06-18T19:10:09.719625Z",
     "shell.execute_reply": "2022-06-18T19:10:09.717680Z"
    },
    "papermill": {
     "duration": 0.050392,
     "end_time": "2022-06-18T19:10:09.726491",
     "exception": false,
     "start_time": "2022-06-18T19:10:09.676099",
     "status": "completed"
    },
    "tags": []
   },
   "outputs": [],
   "source": [
    "dataset_bin['Parch'] = dataset_con['Parch'] =  train_df['Parch']"
   ]
  },
  {
   "cell_type": "markdown",
   "id": "7fdfc6cd",
   "metadata": {
    "papermill": {
     "duration": 0.034418,
     "end_time": "2022-06-18T19:10:09.798204",
     "exception": false,
     "start_time": "2022-06-18T19:10:09.763786",
     "status": "completed"
    },
    "tags": []
   },
   "source": [
    "TODO - new feature - is alone - no sibs no parch\n"
   ]
  },
  {
   "cell_type": "code",
   "execution_count": null,
   "id": "4e631195",
   "metadata": {
    "papermill": {
     "duration": 0.038971,
     "end_time": "2022-06-18T19:10:09.870522",
     "exception": false,
     "start_time": "2022-06-18T19:10:09.831551",
     "status": "completed"
    },
    "tags": []
   },
   "outputs": [],
   "source": []
  },
  {
   "cell_type": "markdown",
   "id": "625f8b8e",
   "metadata": {
    "papermill": {
     "duration": 0.037506,
     "end_time": "2022-06-18T19:10:09.948053",
     "exception": false,
     "start_time": "2022-06-18T19:10:09.910547",
     "status": "completed"
    },
    "tags": []
   },
   "source": [
    "Feature: **Ticket**\n",
    "* no null values\n",
    "* not going to include it now as I dont see any pattern in ticket codes\n",
    "* to be discretionized"
   ]
  },
  {
   "cell_type": "code",
   "execution_count": 31,
   "id": "b7b05dc9",
   "metadata": {
    "execution": {
     "iopub.execute_input": "2022-06-18T19:10:10.018546Z",
     "iopub.status.busy": "2022-06-18T19:10:10.017259Z",
     "iopub.status.idle": "2022-06-18T19:10:10.027782Z",
     "shell.execute_reply": "2022-06-18T19:10:10.026787Z"
    },
    "papermill": {
     "duration": 0.048552,
     "end_time": "2022-06-18T19:10:10.029848",
     "exception": false,
     "start_time": "2022-06-18T19:10:09.981296",
     "status": "completed"
    },
    "tags": []
   },
   "outputs": [
    {
     "data": {
      "text/plain": [
       "347082          7\n",
       "CA. 2343        7\n",
       "1601            7\n",
       "3101295         6\n",
       "CA 2144         6\n",
       "347088          6\n",
       "S.O.C. 14879    5\n",
       "382652          5\n",
       "LINE            4\n",
       "PC 17757        4\n",
       "Name: Ticket, dtype: int64"
      ]
     },
     "execution_count": 31,
     "metadata": {},
     "output_type": "execute_result"
    }
   ],
   "source": [
    "train_df['Ticket'].value_counts()[:10]"
   ]
  },
  {
   "cell_type": "markdown",
   "id": "1e198920",
   "metadata": {
    "papermill": {
     "duration": 0.033915,
     "end_time": "2022-06-18T19:10:10.097558",
     "exception": false,
     "start_time": "2022-06-18T19:10:10.063643",
     "status": "completed"
    },
    "tags": []
   },
   "source": [
    "Feature: **Fare**\n",
    "* no missing values\n",
    "* to "
   ]
  },
  {
   "cell_type": "code",
   "execution_count": 32,
   "id": "e47292d0",
   "metadata": {
    "execution": {
     "iopub.execute_input": "2022-06-18T19:10:10.168900Z",
     "iopub.status.busy": "2022-06-18T19:10:10.168029Z",
     "iopub.status.idle": "2022-06-18T19:10:10.189793Z",
     "shell.execute_reply": "2022-06-18T19:10:10.189068Z"
    },
    "papermill": {
     "duration": 0.060576,
     "end_time": "2022-06-18T19:10:10.192056",
     "exception": false,
     "start_time": "2022-06-18T19:10:10.131480",
     "status": "completed"
    },
    "tags": []
   },
   "outputs": [
    {
     "data": {
      "text/plain": [
       "8.0500      43\n",
       "13.0000     42\n",
       "7.8958      38\n",
       "7.7500      34\n",
       "26.0000     31\n",
       "10.5000     24\n",
       "7.9250      18\n",
       "7.7750      16\n",
       "7.2292      15\n",
       "0.0000      15\n",
       "26.5500     15\n",
       "7.8542      13\n",
       "8.6625      13\n",
       "7.2500      13\n",
       "7.2250      12\n",
       "9.5000       9\n",
       "16.1000      9\n",
       "24.1500      8\n",
       "15.5000      8\n",
       "14.4542      7\n",
       "69.5500      7\n",
       "52.0000      7\n",
       "7.0500       7\n",
       "56.4958      7\n",
       "14.5000      7\n",
       "31.2750      7\n",
       "39.6875      6\n",
       "7.7958       6\n",
       "27.9000      6\n",
       "30.0000      6\n",
       "46.9000      6\n",
       "26.2500      6\n",
       "21.0000      6\n",
       "27.7208      5\n",
       "29.1250      5\n",
       "15.2458      5\n",
       "73.5000      5\n",
       "30.5000      5\n",
       "53.1000      5\n",
       "39.0000      4\n",
       "90.0000      4\n",
       "15.8500      4\n",
       "13.5000      4\n",
       "7.5500       4\n",
       "23.0000      4\n",
       "12.4750      4\n",
       "25.4667      4\n",
       "7.1250       4\n",
       "7.6500       4\n",
       "21.0750      4\n",
       "7.7333       4\n",
       "11.5000      4\n",
       "34.3750      4\n",
       "7.8792       4\n",
       "19.2583      4\n",
       "227.5250     4\n",
       "27.7500      4\n",
       "263.0000     4\n",
       "31.3875      4\n",
       "79.2000      4\n",
       "151.5500     4\n",
       "35.5000      4\n",
       "120.0000     4\n",
       "110.8833     4\n",
       "7.4958       3\n",
       "83.1583      3\n",
       "211.3375     3\n",
       "33.0000      3\n",
       "20.5250      3\n",
       "86.5000      3\n",
       "12.3500      3\n",
       "512.3292     3\n",
       "31.0000      3\n",
       "113.2750     3\n",
       "77.9583      3\n",
       "29.7000      3\n",
       "135.6333     3\n",
       "26.2875      3\n",
       "153.4625     3\n",
       "79.6500      3\n",
       "18.7500      3\n",
       "52.5542      3\n",
       "14.4583      3\n",
       "76.7292      3\n",
       "41.5792      3\n",
       "11.1333      3\n",
       "18.0000      3\n",
       "15.7417      2\n",
       "65.0000      2\n",
       "134.5000     2\n",
       "164.8667     2\n",
       "262.3750     2\n",
       "82.1708      2\n",
       "56.9292      2\n",
       "108.9000     2\n",
       "24.0000      2\n",
       "133.6500     2\n",
       "11.2417      2\n",
       "7.0542       2\n",
       "23.2500      2\n",
       "78.8500      2\n",
       "20.2500      2\n",
       "17.8000      2\n",
       "19.5000      2\n",
       "57.9792      2\n",
       "9.2250       2\n",
       "15.9000      2\n",
       "106.4250     2\n",
       "49.5042      2\n",
       "9.5875       2\n",
       "16.7000      2\n",
       "30.0708      2\n",
       "93.5000      2\n",
       "89.1042      2\n",
       "19.9667      2\n",
       "55.9000      2\n",
       "83.4750      2\n",
       "14.4000      2\n",
       "71.0000      2\n",
       "7.8292       2\n",
       "39.6000      2\n",
       "146.5208     2\n",
       "69.3000      2\n",
       "51.8625      2\n",
       "80.0000      2\n",
       "91.0792      2\n",
       "78.2667      2\n",
       "27.0000      2\n",
       "55.0000      2\n",
       "9.8250       2\n",
       "30.6958      2\n",
       "247.5208     2\n",
       "20.2125      2\n",
       "77.2875      2\n",
       "37.0042      2\n",
       "25.9292      2\n",
       "66.6000      2\n",
       "6.4958       2\n",
       "10.4625      2\n",
       "23.4500      2\n",
       "20.5750      2\n",
       "18.7875      2\n",
       "9.3500       2\n",
       "22.3583      2\n",
       "57.0000      2\n",
       "36.7500      2\n",
       "6.9750       2\n",
       "29.0000      2\n",
       "6.7500       2\n",
       "7.7375       2\n",
       "9.0000       2\n",
       "5.0000       1\n",
       "14.1083      1\n",
       "9.8458       1\n",
       "39.4000      1\n",
       "13.8625      1\n",
       "7.6292       1\n",
       "13.8583      1\n",
       "22.5250      1\n",
       "49.5000      1\n",
       "50.4958      1\n",
       "221.7792     1\n",
       "59.4000      1\n",
       "34.0208      1\n",
       "51.4792      1\n",
       "17.4000      1\n",
       "8.4583       1\n",
       "26.3875      1\n",
       "6.4375       1\n",
       "10.1708      1\n",
       "13.4167      1\n",
       "8.1375       1\n",
       "7.7417       1\n",
       "9.4833       1\n",
       "15.1000      1\n",
       "9.8417       1\n",
       "25.5875      1\n",
       "8.4333       1\n",
       "8.3625       1\n",
       "32.3208      1\n",
       "8.6833       1\n",
       "8.5167       1\n",
       "7.8875       1\n",
       "15.5500      1\n",
       "6.4500       1\n",
       "6.9500       1\n",
       "15.0000      1\n",
       "8.7125       1\n",
       "40.1250      1\n",
       "8.3000       1\n",
       "42.4000      1\n",
       "26.2833      1\n",
       "12.2875      1\n",
       "7.5208       1\n",
       "7.8000       1\n",
       "61.9792      1\n",
       "8.1583       1\n",
       "71.2833      1\n",
       "12.2750      1\n",
       "7.7875       1\n",
       "47.1000      1\n",
       "61.1750      1\n",
       "76.2917      1\n",
       "34.6542      1\n",
       "8.4042       1\n",
       "50.0000      1\n",
       "22.0250      1\n",
       "63.3583      1\n",
       "15.0500      1\n",
       "28.7125      1\n",
       "8.6542       1\n",
       "33.5000      1\n",
       "25.9250      1\n",
       "15.7500      1\n",
       "7.1417       1\n",
       "61.3792      1\n",
       "7.3125       1\n",
       "12.5250      1\n",
       "15.0458      1\n",
       "12.8750      1\n",
       "8.8500       1\n",
       "21.6792      1\n",
       "12.6500      1\n",
       "7.0458       1\n",
       "9.8375       1\n",
       "13.7917      1\n",
       "7.7250       1\n",
       "38.5000      1\n",
       "16.0000      1\n",
       "81.8583      1\n",
       "8.1125       1\n",
       "7.8750       1\n",
       "32.5000      1\n",
       "6.8583       1\n",
       "8.0292       1\n",
       "9.4750       1\n",
       "12.0000      1\n",
       "7.7292       1\n",
       "9.2167       1\n",
       "4.0125       1\n",
       "211.5000     1\n",
       "55.4417      1\n",
       "75.2500      1\n",
       "35.0000      1\n",
       "28.5000      1\n",
       "6.2375       1\n",
       "14.0000      1\n",
       "10.5167      1\n",
       "Name: Fare, dtype: int64"
      ]
     },
     "execution_count": 32,
     "metadata": {},
     "output_type": "execute_result"
    }
   ],
   "source": [
    "train_df['Fare'].value_counts()"
   ]
  },
  {
   "cell_type": "code",
   "execution_count": 33,
   "id": "45c43500",
   "metadata": {
    "execution": {
     "iopub.execute_input": "2022-06-18T19:10:10.262546Z",
     "iopub.status.busy": "2022-06-18T19:10:10.262174Z",
     "iopub.status.idle": "2022-06-18T19:10:10.278128Z",
     "shell.execute_reply": "2022-06-18T19:10:10.277299Z"
    },
    "papermill": {
     "duration": 0.054356,
     "end_time": "2022-06-18T19:10:10.280641",
     "exception": false,
     "start_time": "2022-06-18T19:10:10.226285",
     "status": "completed"
    },
    "tags": []
   },
   "outputs": [],
   "source": [
    "dataset_bin['Fare'] = pd.cut(train_df['Fare'], bins = 5)\n",
    "dataset_con['Fare'] = train_df['Fare']"
   ]
  },
  {
   "cell_type": "code",
   "execution_count": 34,
   "id": "654fb5db",
   "metadata": {
    "execution": {
     "iopub.execute_input": "2022-06-18T19:10:10.350645Z",
     "iopub.status.busy": "2022-06-18T19:10:10.350232Z",
     "iopub.status.idle": "2022-06-18T19:10:10.363374Z",
     "shell.execute_reply": "2022-06-18T19:10:10.362272Z"
    },
    "papermill": {
     "duration": 0.051356,
     "end_time": "2022-06-18T19:10:10.366032",
     "exception": false,
     "start_time": "2022-06-18T19:10:10.314676",
     "status": "completed"
    },
    "tags": []
   },
   "outputs": [
    {
     "data": {
      "text/html": [
       "<div>\n",
       "<style scoped>\n",
       "    .dataframe tbody tr th:only-of-type {\n",
       "        vertical-align: middle;\n",
       "    }\n",
       "\n",
       "    .dataframe tbody tr th {\n",
       "        vertical-align: top;\n",
       "    }\n",
       "\n",
       "    .dataframe thead th {\n",
       "        text-align: right;\n",
       "    }\n",
       "</style>\n",
       "<table border=\"1\" class=\"dataframe\">\n",
       "  <thead>\n",
       "    <tr style=\"text-align: right;\">\n",
       "      <th></th>\n",
       "      <th>Survived</th>\n",
       "      <th>Pclass</th>\n",
       "      <th>Sex</th>\n",
       "      <th>SibSp</th>\n",
       "      <th>Parch</th>\n",
       "      <th>Fare</th>\n",
       "    </tr>\n",
       "  </thead>\n",
       "  <tbody>\n",
       "    <tr>\n",
       "      <th>0</th>\n",
       "      <td>0</td>\n",
       "      <td>3</td>\n",
       "      <td>0</td>\n",
       "      <td>1</td>\n",
       "      <td>0</td>\n",
       "      <td>(-0.512, 102.466]</td>\n",
       "    </tr>\n",
       "    <tr>\n",
       "      <th>1</th>\n",
       "      <td>1</td>\n",
       "      <td>1</td>\n",
       "      <td>1</td>\n",
       "      <td>1</td>\n",
       "      <td>0</td>\n",
       "      <td>(-0.512, 102.466]</td>\n",
       "    </tr>\n",
       "    <tr>\n",
       "      <th>2</th>\n",
       "      <td>1</td>\n",
       "      <td>3</td>\n",
       "      <td>1</td>\n",
       "      <td>0</td>\n",
       "      <td>0</td>\n",
       "      <td>(-0.512, 102.466]</td>\n",
       "    </tr>\n",
       "    <tr>\n",
       "      <th>3</th>\n",
       "      <td>1</td>\n",
       "      <td>1</td>\n",
       "      <td>1</td>\n",
       "      <td>1</td>\n",
       "      <td>0</td>\n",
       "      <td>(-0.512, 102.466]</td>\n",
       "    </tr>\n",
       "    <tr>\n",
       "      <th>4</th>\n",
       "      <td>0</td>\n",
       "      <td>3</td>\n",
       "      <td>0</td>\n",
       "      <td>0</td>\n",
       "      <td>0</td>\n",
       "      <td>(-0.512, 102.466]</td>\n",
       "    </tr>\n",
       "  </tbody>\n",
       "</table>\n",
       "</div>"
      ],
      "text/plain": [
       "   Survived  Pclass  Sex  SibSp  Parch               Fare\n",
       "0         0       3    0      1      0  (-0.512, 102.466]\n",
       "1         1       1    1      1      0  (-0.512, 102.466]\n",
       "2         1       3    1      0      0  (-0.512, 102.466]\n",
       "3         1       1    1      1      0  (-0.512, 102.466]\n",
       "4         0       3    0      0      0  (-0.512, 102.466]"
      ]
     },
     "execution_count": 34,
     "metadata": {},
     "output_type": "execute_result"
    }
   ],
   "source": [
    "dataset_bin.head(5)"
   ]
  },
  {
   "cell_type": "code",
   "execution_count": 35,
   "id": "38a0e6eb",
   "metadata": {
    "execution": {
     "iopub.execute_input": "2022-06-18T19:10:10.438753Z",
     "iopub.status.busy": "2022-06-18T19:10:10.437968Z",
     "iopub.status.idle": "2022-06-18T19:10:10.450464Z",
     "shell.execute_reply": "2022-06-18T19:10:10.449414Z"
    },
    "papermill": {
     "duration": 0.04984,
     "end_time": "2022-06-18T19:10:10.452610",
     "exception": false,
     "start_time": "2022-06-18T19:10:10.402770",
     "status": "completed"
    },
    "tags": []
   },
   "outputs": [
    {
     "data": {
      "text/html": [
       "<div>\n",
       "<style scoped>\n",
       "    .dataframe tbody tr th:only-of-type {\n",
       "        vertical-align: middle;\n",
       "    }\n",
       "\n",
       "    .dataframe tbody tr th {\n",
       "        vertical-align: top;\n",
       "    }\n",
       "\n",
       "    .dataframe thead th {\n",
       "        text-align: right;\n",
       "    }\n",
       "</style>\n",
       "<table border=\"1\" class=\"dataframe\">\n",
       "  <thead>\n",
       "    <tr style=\"text-align: right;\">\n",
       "      <th></th>\n",
       "      <th>Survived</th>\n",
       "      <th>Pclass</th>\n",
       "      <th>Sex</th>\n",
       "      <th>SibSp</th>\n",
       "      <th>Parch</th>\n",
       "      <th>Fare</th>\n",
       "    </tr>\n",
       "  </thead>\n",
       "  <tbody>\n",
       "    <tr>\n",
       "      <th>0</th>\n",
       "      <td>0</td>\n",
       "      <td>3</td>\n",
       "      <td>male</td>\n",
       "      <td>1</td>\n",
       "      <td>0</td>\n",
       "      <td>7.2500</td>\n",
       "    </tr>\n",
       "    <tr>\n",
       "      <th>1</th>\n",
       "      <td>1</td>\n",
       "      <td>1</td>\n",
       "      <td>female</td>\n",
       "      <td>1</td>\n",
       "      <td>0</td>\n",
       "      <td>71.2833</td>\n",
       "    </tr>\n",
       "    <tr>\n",
       "      <th>2</th>\n",
       "      <td>1</td>\n",
       "      <td>3</td>\n",
       "      <td>female</td>\n",
       "      <td>0</td>\n",
       "      <td>0</td>\n",
       "      <td>7.9250</td>\n",
       "    </tr>\n",
       "    <tr>\n",
       "      <th>3</th>\n",
       "      <td>1</td>\n",
       "      <td>1</td>\n",
       "      <td>female</td>\n",
       "      <td>1</td>\n",
       "      <td>0</td>\n",
       "      <td>53.1000</td>\n",
       "    </tr>\n",
       "    <tr>\n",
       "      <th>4</th>\n",
       "      <td>0</td>\n",
       "      <td>3</td>\n",
       "      <td>male</td>\n",
       "      <td>0</td>\n",
       "      <td>0</td>\n",
       "      <td>8.0500</td>\n",
       "    </tr>\n",
       "  </tbody>\n",
       "</table>\n",
       "</div>"
      ],
      "text/plain": [
       "   Survived  Pclass     Sex  SibSp  Parch     Fare\n",
       "0         0       3    male      1      0   7.2500\n",
       "1         1       1  female      1      0  71.2833\n",
       "2         1       3  female      0      0   7.9250\n",
       "3         1       1  female      1      0  53.1000\n",
       "4         0       3    male      0      0   8.0500"
      ]
     },
     "execution_count": 35,
     "metadata": {},
     "output_type": "execute_result"
    }
   ],
   "source": [
    "dataset_con.head(5)"
   ]
  },
  {
   "cell_type": "code",
   "execution_count": 36,
   "id": "ff194156",
   "metadata": {
    "execution": {
     "iopub.execute_input": "2022-06-18T19:10:10.522840Z",
     "iopub.status.busy": "2022-06-18T19:10:10.522426Z",
     "iopub.status.idle": "2022-06-18T19:10:10.763769Z",
     "shell.execute_reply": "2022-06-18T19:10:10.762412Z"
    },
    "papermill": {
     "duration": 0.279978,
     "end_time": "2022-06-18T19:10:10.766632",
     "exception": false,
     "start_time": "2022-06-18T19:10:10.486654",
     "status": "completed"
    },
    "tags": []
   },
   "outputs": [
    {
     "data": {
      "image/png": "[encoded data removed]",
      "text/plain": [
       "<Figure size 1440x216 with 1 Axes>"
      ]
     },
     "metadata": {},
     "output_type": "display_data"
    }
   ],
   "source": [
    "plot_feature('Fare', dataset_bin)"
   ]
  },
  {
   "cell_type": "markdown",
   "id": "9f157ea4",
   "metadata": {
    "papermill": {
     "duration": 0.036476,
     "end_time": "2022-06-18T19:10:10.844239",
     "exception": false,
     "start_time": "2022-06-18T19:10:10.807763",
     "status": "completed"
    },
    "tags": []
   },
   "source": [
    "Feature: **Cabin**\n",
    "* 687 missing values\n",
    "* too many missing values -> not to be included now\n",
    "* TO-DO cabins can be discretionized and maybe inputed from ticket/embarked/class"
   ]
  },
  {
   "cell_type": "code",
   "execution_count": 37,
   "id": "a2e50ad1",
   "metadata": {
    "execution": {
     "iopub.execute_input": "2022-06-18T19:10:10.916796Z",
     "iopub.status.busy": "2022-06-18T19:10:10.915722Z",
     "iopub.status.idle": "2022-06-18T19:10:10.926307Z",
     "shell.execute_reply": "2022-06-18T19:10:10.925236Z"
    },
    "papermill": {
     "duration": 0.049187,
     "end_time": "2022-06-18T19:10:10.928513",
     "exception": false,
     "start_time": "2022-06-18T19:10:10.879326",
     "status": "completed"
    },
    "tags": []
   },
   "outputs": [
    {
     "data": {
      "text/plain": [
       "B96 B98            4\n",
       "G6                 4\n",
       "C23 C25 C27        4\n",
       "C22 C26            3\n",
       "F33                3\n",
       "F2                 3\n",
       "E101               3\n",
       "D                  3\n",
       "C78                2\n",
       "C93                2\n",
       "E8                 2\n",
       "D36                2\n",
       "B77                2\n",
       "C123               2\n",
       "E121               2\n",
       "E44                2\n",
       "D35                2\n",
       "C125               2\n",
       "E67                2\n",
       "B35                2\n",
       "B18                2\n",
       "E24                2\n",
       "B49                2\n",
       "C65                2\n",
       "B20                2\n",
       "B5                 2\n",
       "B57 B59 B63 B66    2\n",
       "C126               2\n",
       "B51 B53 B55        2\n",
       "F4                 2\n",
       "C124               2\n",
       "F G73              2\n",
       "B58 B60            2\n",
       "C52                2\n",
       "D33                2\n",
       "C68                2\n",
       "D20                2\n",
       "D26                2\n",
       "B28                2\n",
       "C83                2\n",
       "E25                2\n",
       "D17                2\n",
       "B22                2\n",
       "C92                2\n",
       "C2                 2\n",
       "E33                2\n",
       "C70                1\n",
       "E58                1\n",
       "A16                1\n",
       "C86                1\n",
       "D19                1\n",
       "D48                1\n",
       "A26                1\n",
       "B50                1\n",
       "A20                1\n",
       "C101               1\n",
       "A10                1\n",
       "A23                1\n",
       "E68                1\n",
       "D9                 1\n",
       "B41                1\n",
       "D50                1\n",
       "C85                1\n",
       "B71                1\n",
       "D49                1\n",
       "B42                1\n",
       "C50                1\n",
       "A24                1\n",
       "E17                1\n",
       "D28                1\n",
       "C47                1\n",
       "E49                1\n",
       "B69                1\n",
       "B102               1\n",
       "A36                1\n",
       "B82 B84            1\n",
       "D6                 1\n",
       "B3                 1\n",
       "F38                1\n",
       "E77                1\n",
       "D11                1\n",
       "D30                1\n",
       "C46                1\n",
       "D45                1\n",
       "B101               1\n",
       "B38                1\n",
       "C45                1\n",
       "C90                1\n",
       "C62 C64            1\n",
       "F G63              1\n",
       "B39                1\n",
       "E10                1\n",
       "C95                1\n",
       "B86                1\n",
       "C99                1\n",
       "B94                1\n",
       "C87                1\n",
       "D15                1\n",
       "A31                1\n",
       "B80                1\n",
       "B4                 1\n",
       "A32                1\n",
       "C49                1\n",
       "A7                 1\n",
       "B19                1\n",
       "D47                1\n",
       "D7                 1\n",
       "F E69              1\n",
       "C110               1\n",
       "D10 D12            1\n",
       "A5                 1\n",
       "E31                1\n",
       "B30                1\n",
       "B78                1\n",
       "A6                 1\n",
       "D56                1\n",
       "C103               1\n",
       "E46                1\n",
       "C118               1\n",
       "A19                1\n",
       "B73                1\n",
       "A34                1\n",
       "D46                1\n",
       "B79                1\n",
       "C30                1\n",
       "B37                1\n",
       "A14                1\n",
       "E63                1\n",
       "E12                1\n",
       "D21                1\n",
       "E38                1\n",
       "C111               1\n",
       "C104               1\n",
       "C82                1\n",
       "C106               1\n",
       "E50                1\n",
       "D37                1\n",
       "C128               1\n",
       "T                  1\n",
       "E40                1\n",
       "C91                1\n",
       "C32                1\n",
       "E34                1\n",
       "C7                 1\n",
       "C54                1\n",
       "E36                1\n",
       "C148               1\n",
       "Name: Cabin, dtype: int64"
      ]
     },
     "execution_count": 37,
     "metadata": {},
     "output_type": "execute_result"
    }
   ],
   "source": [
    "train_df['Cabin'].value_counts()"
   ]
  },
  {
   "cell_type": "markdown",
   "id": "9e9d2849",
   "metadata": {
    "papermill": {
     "duration": 0.035728,
     "end_time": "2022-06-18T19:10:10.999500",
     "exception": false,
     "start_time": "2022-06-18T19:10:10.963772",
     "status": "completed"
    },
    "tags": []
   },
   "source": [
    "Feature: **Embarked**\n",
    "* two missing values - to be deleted for now"
   ]
  },
  {
   "cell_type": "code",
   "execution_count": 38,
   "id": "72dfce4c",
   "metadata": {
    "execution": {
     "iopub.execute_input": "2022-06-18T19:10:11.071141Z",
     "iopub.status.busy": "2022-06-18T19:10:11.070651Z",
     "iopub.status.idle": "2022-06-18T19:10:11.080330Z",
     "shell.execute_reply": "2022-06-18T19:10:11.079097Z"
    },
    "papermill": {
     "duration": 0.047644,
     "end_time": "2022-06-18T19:10:11.082696",
     "exception": false,
     "start_time": "2022-06-18T19:10:11.035052",
     "status": "completed"
    },
    "tags": []
   },
   "outputs": [
    {
     "data": {
      "text/plain": [
       "S    644\n",
       "C    168\n",
       "Q     77\n",
       "Name: Embarked, dtype: int64"
      ]
     },
     "execution_count": 38,
     "metadata": {},
     "output_type": "execute_result"
    }
   ],
   "source": [
    "train_df['Embarked'].value_counts()"
   ]
  },
  {
   "cell_type": "code",
   "execution_count": 39,
   "id": "db9e738a",
   "metadata": {
    "execution": {
     "iopub.execute_input": "2022-06-18T19:10:11.162201Z",
     "iopub.status.busy": "2022-06-18T19:10:11.161233Z",
     "iopub.status.idle": "2022-06-18T19:10:11.169266Z",
     "shell.execute_reply": "2022-06-18T19:10:11.168153Z"
    },
    "papermill": {
     "duration": 0.050908,
     "end_time": "2022-06-18T19:10:11.171550",
     "exception": false,
     "start_time": "2022-06-18T19:10:11.120642",
     "status": "completed"
    },
    "tags": []
   },
   "outputs": [
    {
     "data": {
      "text/plain": [
       "2"
      ]
     },
     "execution_count": 39,
     "metadata": {},
     "output_type": "execute_result"
    }
   ],
   "source": [
    "train_df['Embarked'].isna().sum()"
   ]
  },
  {
   "cell_type": "code",
   "execution_count": 40,
   "id": "81a86ffb",
   "metadata": {
    "execution": {
     "iopub.execute_input": "2022-06-18T19:10:11.249915Z",
     "iopub.status.busy": "2022-06-18T19:10:11.249529Z",
     "iopub.status.idle": "2022-06-18T19:10:11.267862Z",
     "shell.execute_reply": "2022-06-18T19:10:11.267035Z"
    },
    "papermill": {
     "duration": 0.060942,
     "end_time": "2022-06-18T19:10:11.269850",
     "exception": false,
     "start_time": "2022-06-18T19:10:11.208908",
     "status": "completed"
    },
    "tags": []
   },
   "outputs": [
    {
     "data": {
      "text/html": [
       "<div>\n",
       "<style scoped>\n",
       "    .dataframe tbody tr th:only-of-type {\n",
       "        vertical-align: middle;\n",
       "    }\n",
       "\n",
       "    .dataframe tbody tr th {\n",
       "        vertical-align: top;\n",
       "    }\n",
       "\n",
       "    .dataframe thead th {\n",
       "        text-align: right;\n",
       "    }\n",
       "</style>\n",
       "<table border=\"1\" class=\"dataframe\">\n",
       "  <thead>\n",
       "    <tr style=\"text-align: right;\">\n",
       "      <th></th>\n",
       "      <th>PassengerId</th>\n",
       "      <th>Survived</th>\n",
       "      <th>Pclass</th>\n",
       "      <th>Name</th>\n",
       "      <th>Sex</th>\n",
       "      <th>Age</th>\n",
       "      <th>SibSp</th>\n",
       "      <th>Parch</th>\n",
       "      <th>Ticket</th>\n",
       "      <th>Fare</th>\n",
       "      <th>Cabin</th>\n",
       "      <th>Embarked</th>\n",
       "    </tr>\n",
       "  </thead>\n",
       "  <tbody>\n",
       "    <tr>\n",
       "      <th>61</th>\n",
       "      <td>62</td>\n",
       "      <td>1</td>\n",
       "      <td>1</td>\n",
       "      <td>Icard, Miss. Amelie</td>\n",
       "      <td>female</td>\n",
       "      <td>38.0</td>\n",
       "      <td>0</td>\n",
       "      <td>0</td>\n",
       "      <td>113572</td>\n",
       "      <td>80.0</td>\n",
       "      <td>B28</td>\n",
       "      <td>NaN</td>\n",
       "    </tr>\n",
       "    <tr>\n",
       "      <th>829</th>\n",
       "      <td>830</td>\n",
       "      <td>1</td>\n",
       "      <td>1</td>\n",
       "      <td>Stone, Mrs. George Nelson (Martha Evelyn)</td>\n",
       "      <td>female</td>\n",
       "      <td>62.0</td>\n",
       "      <td>0</td>\n",
       "      <td>0</td>\n",
       "      <td>113572</td>\n",
       "      <td>80.0</td>\n",
       "      <td>B28</td>\n",
       "      <td>NaN</td>\n",
       "    </tr>\n",
       "  </tbody>\n",
       "</table>\n",
       "</div>"
      ],
      "text/plain": [
       "     PassengerId  Survived  Pclass                                       Name     Sex   Age  SibSp  Parch  Ticket  Fare Cabin Embarked\n",
       "61            62         1       1                        Icard, Miss. Amelie  female  38.0      0      0  113572  80.0   B28      NaN\n",
       "829          830         1       1  Stone, Mrs. George Nelson (Martha Evelyn)  female  62.0      0      0  113572  80.0   B28      NaN"
      ]
     },
     "execution_count": 40,
     "metadata": {},
     "output_type": "execute_result"
    }
   ],
   "source": [
    "train_df[train_df['Embarked'].isna()]"
   ]
  },
  {
   "cell_type": "code",
   "execution_count": 41,
   "id": "4e9ed3ff",
   "metadata": {
    "execution": {
     "iopub.execute_input": "2022-06-18T19:10:11.343325Z",
     "iopub.status.busy": "2022-06-18T19:10:11.342412Z",
     "iopub.status.idle": "2022-06-18T19:10:11.542508Z",
     "shell.execute_reply": "2022-06-18T19:10:11.541200Z"
    },
    "papermill": {
     "duration": 0.239416,
     "end_time": "2022-06-18T19:10:11.545125",
     "exception": false,
     "start_time": "2022-06-18T19:10:11.305709",
     "status": "completed"
    },
    "tags": []
   },
   "outputs": [
    {
     "data": {
      "image/png": "[encoded data removed]",
      "text/plain": [
       "<Figure size 1440x216 with 1 Axes>"
      ]
     },
     "metadata": {},
     "output_type": "display_data"
    }
   ],
   "source": [
    "plot_feature('Embarked', train_df)"
   ]
  },
  {
   "cell_type": "code",
   "execution_count": 42,
   "id": "6be00290",
   "metadata": {
    "execution": {
     "iopub.execute_input": "2022-06-18T19:10:11.641719Z",
     "iopub.status.busy": "2022-06-18T19:10:11.640840Z",
     "iopub.status.idle": "2022-06-18T19:10:11.648092Z",
     "shell.execute_reply": "2022-06-18T19:10:11.647243Z"
    },
    "papermill": {
     "duration": 0.064563,
     "end_time": "2022-06-18T19:10:11.650291",
     "exception": false,
     "start_time": "2022-06-18T19:10:11.585728",
     "status": "completed"
    },
    "tags": []
   },
   "outputs": [],
   "source": [
    "dataset_bin['Embarked'] = dataset_con['Embarked'] = train_df['Embarked']"
   ]
  },
  {
   "cell_type": "code",
   "execution_count": 43,
   "id": "42da58b9",
   "metadata": {
    "execution": {
     "iopub.execute_input": "2022-06-18T19:10:11.732088Z",
     "iopub.status.busy": "2022-06-18T19:10:11.731296Z",
     "iopub.status.idle": "2022-06-18T19:10:11.742095Z",
     "shell.execute_reply": "2022-06-18T19:10:11.741206Z"
    },
    "papermill": {
     "duration": 0.053301,
     "end_time": "2022-06-18T19:10:11.744519",
     "exception": false,
     "start_time": "2022-06-18T19:10:11.691218",
     "status": "completed"
    },
    "tags": []
   },
   "outputs": [],
   "source": [
    "dataset_bin= dataset_bin.dropna(subset=['Embarked'])\n",
    "dataset_con= dataset_con.dropna(subset=['Embarked'])"
   ]
  },
  {
   "cell_type": "code",
   "execution_count": 44,
   "id": "c44ecba2",
   "metadata": {
    "execution": {
     "iopub.execute_input": "2022-06-18T19:10:11.819178Z",
     "iopub.status.busy": "2022-06-18T19:10:11.817986Z",
     "iopub.status.idle": "2022-06-18T19:10:11.833465Z",
     "shell.execute_reply": "2022-06-18T19:10:11.832297Z"
    },
    "papermill": {
     "duration": 0.054918,
     "end_time": "2022-06-18T19:10:11.835848",
     "exception": false,
     "start_time": "2022-06-18T19:10:11.780930",
     "status": "completed"
    },
    "tags": []
   },
   "outputs": [
    {
     "data": {
      "text/html": [
       "<div>\n",
       "<style scoped>\n",
       "    .dataframe tbody tr th:only-of-type {\n",
       "        vertical-align: middle;\n",
       "    }\n",
       "\n",
       "    .dataframe tbody tr th {\n",
       "        vertical-align: top;\n",
       "    }\n",
       "\n",
       "    .dataframe thead th {\n",
       "        text-align: right;\n",
       "    }\n",
       "</style>\n",
       "<table border=\"1\" class=\"dataframe\">\n",
       "  <thead>\n",
       "    <tr style=\"text-align: right;\">\n",
       "      <th></th>\n",
       "      <th>Survived</th>\n",
       "      <th>Pclass</th>\n",
       "      <th>Sex</th>\n",
       "      <th>SibSp</th>\n",
       "      <th>Parch</th>\n",
       "      <th>Fare</th>\n",
       "      <th>Embarked</th>\n",
       "    </tr>\n",
       "  </thead>\n",
       "  <tbody>\n",
       "    <tr>\n",
       "      <th>0</th>\n",
       "      <td>0</td>\n",
       "      <td>3</td>\n",
       "      <td>male</td>\n",
       "      <td>1</td>\n",
       "      <td>0</td>\n",
       "      <td>7.2500</td>\n",
       "      <td>S</td>\n",
       "    </tr>\n",
       "    <tr>\n",
       "      <th>1</th>\n",
       "      <td>1</td>\n",
       "      <td>1</td>\n",
       "      <td>female</td>\n",
       "      <td>1</td>\n",
       "      <td>0</td>\n",
       "      <td>71.2833</td>\n",
       "      <td>C</td>\n",
       "    </tr>\n",
       "    <tr>\n",
       "      <th>2</th>\n",
       "      <td>1</td>\n",
       "      <td>3</td>\n",
       "      <td>female</td>\n",
       "      <td>0</td>\n",
       "      <td>0</td>\n",
       "      <td>7.9250</td>\n",
       "      <td>S</td>\n",
       "    </tr>\n",
       "    <tr>\n",
       "      <th>3</th>\n",
       "      <td>1</td>\n",
       "      <td>1</td>\n",
       "      <td>female</td>\n",
       "      <td>1</td>\n",
       "      <td>0</td>\n",
       "      <td>53.1000</td>\n",
       "      <td>S</td>\n",
       "    </tr>\n",
       "    <tr>\n",
       "      <th>4</th>\n",
       "      <td>0</td>\n",
       "      <td>3</td>\n",
       "      <td>male</td>\n",
       "      <td>0</td>\n",
       "      <td>0</td>\n",
       "      <td>8.0500</td>\n",
       "      <td>S</td>\n",
       "    </tr>\n",
       "  </tbody>\n",
       "</table>\n",
       "</div>"
      ],
      "text/plain": [
       "   Survived  Pclass     Sex  SibSp  Parch     Fare Embarked\n",
       "0         0       3    male      1      0   7.2500        S\n",
       "1         1       1  female      1      0  71.2833        C\n",
       "2         1       3  female      0      0   7.9250        S\n",
       "3         1       1  female      1      0  53.1000        S\n",
       "4         0       3    male      0      0   8.0500        S"
      ]
     },
     "execution_count": 44,
     "metadata": {},
     "output_type": "execute_result"
    }
   ],
   "source": [
    "dataset_con.head()"
   ]
  },
  {
   "cell_type": "markdown",
   "id": "d5050b63",
   "metadata": {
    "papermill": {
     "duration": 0.038179,
     "end_time": "2022-06-18T19:10:11.912857",
     "exception": false,
     "start_time": "2022-06-18T19:10:11.874678",
     "status": "completed"
    },
    "tags": []
   },
   "source": [
    "**Bi_variate Feature Analysis**\n",
    "\n",
    "TODO create charts"
   ]
  },
  {
   "cell_type": "code",
   "execution_count": 45,
   "id": "62aa426e",
   "metadata": {
    "execution": {
     "iopub.execute_input": "2022-06-18T19:10:11.989929Z",
     "iopub.status.busy": "2022-06-18T19:10:11.989552Z",
     "iopub.status.idle": "2022-06-18T19:10:11.995965Z",
     "shell.execute_reply": "2022-06-18T19:10:11.994787Z"
    },
    "papermill": {
     "duration": 0.047594,
     "end_time": "2022-06-18T19:10:11.998222",
     "exception": false,
     "start_time": "2022-06-18T19:10:11.950628",
     "status": "completed"
    },
    "tags": []
   },
   "outputs": [],
   "source": [
    "sns.set_style('darkgrid')\n",
    "sns.set(font_scale=1.3)"
   ]
  },
  {
   "cell_type": "code",
   "execution_count": 46,
   "id": "cf200cdb",
   "metadata": {
    "execution": {
     "iopub.execute_input": "2022-06-18T19:10:12.078760Z",
     "iopub.status.busy": "2022-06-18T19:10:12.077527Z",
     "iopub.status.idle": "2022-06-18T19:10:18.226863Z",
     "shell.execute_reply": "2022-06-18T19:10:18.225869Z"
    },
    "papermill": {
     "duration": 6.191673,
     "end_time": "2022-06-18T19:10:18.230217",
     "exception": false,
     "start_time": "2022-06-18T19:10:12.038544",
     "status": "completed"
    },
    "tags": []
   },
   "outputs": [
    {
     "data": {
      "image/png": "[encoded data removed]",
      "text/plain": [
       "<Figure size 1059.64x1152 with 20 Axes>"
      ]
     },
     "metadata": {},
     "output_type": "display_data"
    }
   ],
   "source": [
    "sns.pairplot(dataset_con[['Survived','Pclass', 'Sex', 'SibSp', 'Parch', 'Fare', 'Embarked']],\n",
    "            hue='Survived',\n",
    "            aspect=.85,\n",
    "            diag_kind='kde',\n",
    "            size=4);"
   ]
  },
  {
   "cell_type": "code",
   "execution_count": 47,
   "id": "3baedcd9",
   "metadata": {
    "execution": {
     "iopub.execute_input": "2022-06-18T19:10:18.308657Z",
     "iopub.status.busy": "2022-06-18T19:10:18.308265Z",
     "iopub.status.idle": "2022-06-18T19:10:18.711448Z",
     "shell.execute_reply": "2022-06-18T19:10:18.710190Z"
    },
    "papermill": {
     "duration": 0.446073,
     "end_time": "2022-06-18T19:10:18.714834",
     "exception": false,
     "start_time": "2022-06-18T19:10:18.268761",
     "status": "completed"
    },
    "tags": []
   },
   "outputs": [
    {
     "data": {
      "text/plain": [
       "<AxesSubplot:>"
      ]
     },
     "execution_count": 47,
     "metadata": {},
     "output_type": "execute_result"
    },
    {
     "data": {
      "image/png": "[encoded data removed]",
      "text/plain": [
       "<Figure size 576x288 with 2 Axes>"
      ]
     },
     "metadata": {},
     "output_type": "display_data"
    }
   ],
   "source": [
    "sns.set(font_scale=1.15)\n",
    "plt.figure(figsize=(8,4))\n",
    "\n",
    "sns.heatmap(\n",
    "    dataset_con.corr(),\n",
    "    cmap='RdBu_r',\n",
    "    annot=True,\n",
    "    vmin=-1, vmax=1)"
   ]
  },
  {
   "cell_type": "code",
   "execution_count": 48,
   "id": "9e3a1324",
   "metadata": {
    "execution": {
     "iopub.execute_input": "2022-06-18T19:10:18.793525Z",
     "iopub.status.busy": "2022-06-18T19:10:18.792476Z",
     "iopub.status.idle": "2022-06-18T19:10:19.626471Z",
     "shell.execute_reply": "2022-06-18T19:10:19.625237Z"
    },
    "papermill": {
     "duration": 0.875809,
     "end_time": "2022-06-18T19:10:19.628846",
     "exception": false,
     "start_time": "2022-06-18T19:10:18.753037",
     "status": "completed"
    },
    "tags": []
   },
   "outputs": [
    {
     "data": {
      "image/png": "[encoded data removed]",
      "text/plain": [
       "<Figure size 1440x288 with 3 Axes>"
      ]
     },
     "metadata": {},
     "output_type": "display_data"
    }
   ],
   "source": [
    "plt.style.use('seaborn-whitegrid')\n",
    "fig = plt.figure(figsize=(20,4)) \n",
    "plt.subplot(1, 3, 1)\n",
    "sns.violinplot(x='Sex', y='SibSp', hue='Survived', data=dataset_bin, split=True, scale='count');\n",
    "\n",
    "plt.subplot(1, 3, 2)\n",
    "sns.violinplot(x='Sex', y='Embarked', hue='Survived', data=dataset_bin, split=True, scale='count');\n",
    "\n",
    "plt.subplot(1, 3, 3)\n",
    "sns.violinplot(x='Sex', y='Pclass', hue='Survived', data=dataset_bin, split=True, scale='count');"
   ]
  },
  {
   "cell_type": "markdown",
   "id": "98b4460a",
   "metadata": {
    "papermill": {
     "duration": 0.038557,
     "end_time": "2022-06-18T19:10:19.706853",
     "exception": false,
     "start_time": "2022-06-18T19:10:19.668296",
     "status": "completed"
    },
    "tags": []
   },
   "source": [
    "# Feature Encoding\n",
    "* Machine learning algorithms can only work with numerical values so we have to transform all categorical features into numerical ones.\n",
    "* Methods:\n",
    "            1. One-Hot Encoding - creates new columns representing particular category of the categorical feature\n",
    "            2. Label Encoding - encodes categories with numbers\n",
    "            3. Ordinal Encoding\n",
    "            4. Target Encoding\n",
    "            5. Frequency Encoding\n",
    "            6. Mean Encoding\n"
   ]
  },
  {
   "cell_type": "code",
   "execution_count": 49,
   "id": "976bac57",
   "metadata": {
    "execution": {
     "iopub.execute_input": "2022-06-18T19:10:19.787613Z",
     "iopub.status.busy": "2022-06-18T19:10:19.786852Z",
     "iopub.status.idle": "2022-06-18T19:10:19.801172Z",
     "shell.execute_reply": "2022-06-18T19:10:19.800021Z"
    },
    "papermill": {
     "duration": 0.056618,
     "end_time": "2022-06-18T19:10:19.803340",
     "exception": false,
     "start_time": "2022-06-18T19:10:19.746722",
     "status": "completed"
    },
    "tags": []
   },
   "outputs": [
    {
     "data": {
      "text/html": [
       "<div>\n",
       "<style scoped>\n",
       "    .dataframe tbody tr th:only-of-type {\n",
       "        vertical-align: middle;\n",
       "    }\n",
       "\n",
       "    .dataframe tbody tr th {\n",
       "        vertical-align: top;\n",
       "    }\n",
       "\n",
       "    .dataframe thead th {\n",
       "        text-align: right;\n",
       "    }\n",
       "</style>\n",
       "<table border=\"1\" class=\"dataframe\">\n",
       "  <thead>\n",
       "    <tr style=\"text-align: right;\">\n",
       "      <th></th>\n",
       "      <th>Survived</th>\n",
       "      <th>Pclass</th>\n",
       "      <th>Sex</th>\n",
       "      <th>SibSp</th>\n",
       "      <th>Parch</th>\n",
       "      <th>Fare</th>\n",
       "      <th>Embarked</th>\n",
       "    </tr>\n",
       "  </thead>\n",
       "  <tbody>\n",
       "    <tr>\n",
       "      <th>0</th>\n",
       "      <td>0</td>\n",
       "      <td>3</td>\n",
       "      <td>0</td>\n",
       "      <td>1</td>\n",
       "      <td>0</td>\n",
       "      <td>(-0.512, 102.466]</td>\n",
       "      <td>S</td>\n",
       "    </tr>\n",
       "    <tr>\n",
       "      <th>1</th>\n",
       "      <td>1</td>\n",
       "      <td>1</td>\n",
       "      <td>1</td>\n",
       "      <td>1</td>\n",
       "      <td>0</td>\n",
       "      <td>(-0.512, 102.466]</td>\n",
       "      <td>C</td>\n",
       "    </tr>\n",
       "    <tr>\n",
       "      <th>2</th>\n",
       "      <td>1</td>\n",
       "      <td>3</td>\n",
       "      <td>1</td>\n",
       "      <td>0</td>\n",
       "      <td>0</td>\n",
       "      <td>(-0.512, 102.466]</td>\n",
       "      <td>S</td>\n",
       "    </tr>\n",
       "    <tr>\n",
       "      <th>3</th>\n",
       "      <td>1</td>\n",
       "      <td>1</td>\n",
       "      <td>1</td>\n",
       "      <td>1</td>\n",
       "      <td>0</td>\n",
       "      <td>(-0.512, 102.466]</td>\n",
       "      <td>S</td>\n",
       "    </tr>\n",
       "    <tr>\n",
       "      <th>4</th>\n",
       "      <td>0</td>\n",
       "      <td>3</td>\n",
       "      <td>0</td>\n",
       "      <td>0</td>\n",
       "      <td>0</td>\n",
       "      <td>(-0.512, 102.466]</td>\n",
       "      <td>S</td>\n",
       "    </tr>\n",
       "  </tbody>\n",
       "</table>\n",
       "</div>"
      ],
      "text/plain": [
       "   Survived  Pclass  Sex  SibSp  Parch               Fare Embarked\n",
       "0         0       3    0      1      0  (-0.512, 102.466]        S\n",
       "1         1       1    1      1      0  (-0.512, 102.466]        C\n",
       "2         1       3    1      0      0  (-0.512, 102.466]        S\n",
       "3         1       1    1      1      0  (-0.512, 102.466]        S\n",
       "4         0       3    0      0      0  (-0.512, 102.466]        S"
      ]
     },
     "execution_count": 49,
     "metadata": {},
     "output_type": "execute_result"
    }
   ],
   "source": [
    "dataset_bin.head()"
   ]
  },
  {
   "cell_type": "code",
   "execution_count": 50,
   "id": "63039ace",
   "metadata": {
    "execution": {
     "iopub.execute_input": "2022-06-18T19:10:19.884236Z",
     "iopub.status.busy": "2022-06-18T19:10:19.883625Z",
     "iopub.status.idle": "2022-06-18T19:10:19.898803Z",
     "shell.execute_reply": "2022-06-18T19:10:19.897660Z"
    },
    "papermill": {
     "duration": 0.058478,
     "end_time": "2022-06-18T19:10:19.901471",
     "exception": false,
     "start_time": "2022-06-18T19:10:19.842993",
     "status": "completed"
    },
    "tags": []
   },
   "outputs": [
    {
     "data": {
      "text/html": [
       "<div>\n",
       "<style scoped>\n",
       "    .dataframe tbody tr th:only-of-type {\n",
       "        vertical-align: middle;\n",
       "    }\n",
       "\n",
       "    .dataframe tbody tr th {\n",
       "        vertical-align: top;\n",
       "    }\n",
       "\n",
       "    .dataframe thead th {\n",
       "        text-align: right;\n",
       "    }\n",
       "</style>\n",
       "<table border=\"1\" class=\"dataframe\">\n",
       "  <thead>\n",
       "    <tr style=\"text-align: right;\">\n",
       "      <th></th>\n",
       "      <th>Survived</th>\n",
       "      <th>Pclass</th>\n",
       "      <th>Sex</th>\n",
       "      <th>SibSp</th>\n",
       "      <th>Parch</th>\n",
       "      <th>Fare</th>\n",
       "      <th>Embarked</th>\n",
       "    </tr>\n",
       "  </thead>\n",
       "  <tbody>\n",
       "    <tr>\n",
       "      <th>0</th>\n",
       "      <td>0</td>\n",
       "      <td>3</td>\n",
       "      <td>male</td>\n",
       "      <td>1</td>\n",
       "      <td>0</td>\n",
       "      <td>7.2500</td>\n",
       "      <td>S</td>\n",
       "    </tr>\n",
       "    <tr>\n",
       "      <th>1</th>\n",
       "      <td>1</td>\n",
       "      <td>1</td>\n",
       "      <td>female</td>\n",
       "      <td>1</td>\n",
       "      <td>0</td>\n",
       "      <td>71.2833</td>\n",
       "      <td>C</td>\n",
       "    </tr>\n",
       "    <tr>\n",
       "      <th>2</th>\n",
       "      <td>1</td>\n",
       "      <td>3</td>\n",
       "      <td>female</td>\n",
       "      <td>0</td>\n",
       "      <td>0</td>\n",
       "      <td>7.9250</td>\n",
       "      <td>S</td>\n",
       "    </tr>\n",
       "    <tr>\n",
       "      <th>3</th>\n",
       "      <td>1</td>\n",
       "      <td>1</td>\n",
       "      <td>female</td>\n",
       "      <td>1</td>\n",
       "      <td>0</td>\n",
       "      <td>53.1000</td>\n",
       "      <td>S</td>\n",
       "    </tr>\n",
       "    <tr>\n",
       "      <th>4</th>\n",
       "      <td>0</td>\n",
       "      <td>3</td>\n",
       "      <td>male</td>\n",
       "      <td>0</td>\n",
       "      <td>0</td>\n",
       "      <td>8.0500</td>\n",
       "      <td>S</td>\n",
       "    </tr>\n",
       "  </tbody>\n",
       "</table>\n",
       "</div>"
      ],
      "text/plain": [
       "   Survived  Pclass     Sex  SibSp  Parch     Fare Embarked\n",
       "0         0       3    male      1      0   7.2500        S\n",
       "1         1       1  female      1      0  71.2833        C\n",
       "2         1       3  female      0      0   7.9250        S\n",
       "3         1       1  female      1      0  53.1000        S\n",
       "4         0       3    male      0      0   8.0500        S"
      ]
     },
     "execution_count": 50,
     "metadata": {},
     "output_type": "execute_result"
    }
   ],
   "source": [
    "dataset_con.head()"
   ]
  },
  {
   "cell_type": "code",
   "execution_count": 51,
   "id": "cb98cbd3",
   "metadata": {
    "execution": {
     "iopub.execute_input": "2022-06-18T19:10:19.984291Z",
     "iopub.status.busy": "2022-06-18T19:10:19.983698Z",
     "iopub.status.idle": "2022-06-18T19:10:20.011627Z",
     "shell.execute_reply": "2022-06-18T19:10:20.010641Z"
    },
    "papermill": {
     "duration": 0.072403,
     "end_time": "2022-06-18T19:10:20.014366",
     "exception": false,
     "start_time": "2022-06-18T19:10:19.941963",
     "status": "completed"
    },
    "tags": []
   },
   "outputs": [
    {
     "data": {
      "text/html": [
       "<div>\n",
       "<style scoped>\n",
       "    .dataframe tbody tr th:only-of-type {\n",
       "        vertical-align: middle;\n",
       "    }\n",
       "\n",
       "    .dataframe tbody tr th {\n",
       "        vertical-align: top;\n",
       "    }\n",
       "\n",
       "    .dataframe thead th {\n",
       "        text-align: right;\n",
       "    }\n",
       "</style>\n",
       "<table border=\"1\" class=\"dataframe\">\n",
       "  <thead>\n",
       "    <tr style=\"text-align: right;\">\n",
       "      <th></th>\n",
       "      <th>Survived</th>\n",
       "      <th>Pclass_1</th>\n",
       "      <th>Pclass_2</th>\n",
       "      <th>Pclass_3</th>\n",
       "      <th>Sex_0</th>\n",
       "      <th>Sex_1</th>\n",
       "      <th>SibSp_0</th>\n",
       "      <th>SibSp_1</th>\n",
       "      <th>SibSp_2</th>\n",
       "      <th>SibSp_3</th>\n",
       "      <th>SibSp_4</th>\n",
       "      <th>SibSp_5</th>\n",
       "      <th>SibSp_8</th>\n",
       "      <th>Parch_0</th>\n",
       "      <th>Parch_1</th>\n",
       "      <th>Parch_2</th>\n",
       "      <th>Parch_3</th>\n",
       "      <th>Parch_4</th>\n",
       "      <th>Parch_5</th>\n",
       "      <th>Parch_6</th>\n",
       "      <th>Fare_(-0.512, 102.466]</th>\n",
       "      <th>Fare_(102.466, 204.932]</th>\n",
       "      <th>Fare_(204.932, 307.398]</th>\n",
       "      <th>Fare_(307.398, 409.863]</th>\n",
       "      <th>Fare_(409.863, 512.329]</th>\n",
       "      <th>Embarked_C</th>\n",
       "      <th>Embarked_Q</th>\n",
       "      <th>Embarked_S</th>\n",
       "    </tr>\n",
       "  </thead>\n",
       "  <tbody>\n",
       "    <tr>\n",
       "      <th>0</th>\n",
       "      <td>0</td>\n",
       "      <td>0</td>\n",
       "      <td>0</td>\n",
       "      <td>1</td>\n",
       "      <td>1</td>\n",
       "      <td>0</td>\n",
       "      <td>0</td>\n",
       "      <td>1</td>\n",
       "      <td>0</td>\n",
       "      <td>0</td>\n",
       "      <td>0</td>\n",
       "      <td>0</td>\n",
       "      <td>0</td>\n",
       "      <td>1</td>\n",
       "      <td>0</td>\n",
       "      <td>0</td>\n",
       "      <td>0</td>\n",
       "      <td>0</td>\n",
       "      <td>0</td>\n",
       "      <td>0</td>\n",
       "      <td>1</td>\n",
       "      <td>0</td>\n",
       "      <td>0</td>\n",
       "      <td>0</td>\n",
       "      <td>0</td>\n",
       "      <td>0</td>\n",
       "      <td>0</td>\n",
       "      <td>1</td>\n",
       "    </tr>\n",
       "    <tr>\n",
       "      <th>1</th>\n",
       "      <td>1</td>\n",
       "      <td>1</td>\n",
       "      <td>0</td>\n",
       "      <td>0</td>\n",
       "      <td>0</td>\n",
       "      <td>1</td>\n",
       "      <td>0</td>\n",
       "      <td>1</td>\n",
       "      <td>0</td>\n",
       "      <td>0</td>\n",
       "      <td>0</td>\n",
       "      <td>0</td>\n",
       "      <td>0</td>\n",
       "      <td>1</td>\n",
       "      <td>0</td>\n",
       "      <td>0</td>\n",
       "      <td>0</td>\n",
       "      <td>0</td>\n",
       "      <td>0</td>\n",
       "      <td>0</td>\n",
       "      <td>1</td>\n",
       "      <td>0</td>\n",
       "      <td>0</td>\n",
       "      <td>0</td>\n",
       "      <td>0</td>\n",
       "      <td>1</td>\n",
       "      <td>0</td>\n",
       "      <td>0</td>\n",
       "    </tr>\n",
       "    <tr>\n",
       "      <th>2</th>\n",
       "      <td>1</td>\n",
       "      <td>0</td>\n",
       "      <td>0</td>\n",
       "      <td>1</td>\n",
       "      <td>0</td>\n",
       "      <td>1</td>\n",
       "      <td>1</td>\n",
       "      <td>0</td>\n",
       "      <td>0</td>\n",
       "      <td>0</td>\n",
       "      <td>0</td>\n",
       "      <td>0</td>\n",
       "      <td>0</td>\n",
       "      <td>1</td>\n",
       "      <td>0</td>\n",
       "      <td>0</td>\n",
       "      <td>0</td>\n",
       "      <td>0</td>\n",
       "      <td>0</td>\n",
       "      <td>0</td>\n",
       "      <td>1</td>\n",
       "      <td>0</td>\n",
       "      <td>0</td>\n",
       "      <td>0</td>\n",
       "      <td>0</td>\n",
       "      <td>0</td>\n",
       "      <td>0</td>\n",
       "      <td>1</td>\n",
       "    </tr>\n",
       "    <tr>\n",
       "      <th>3</th>\n",
       "      <td>1</td>\n",
       "      <td>1</td>\n",
       "      <td>0</td>\n",
       "      <td>0</td>\n",
       "      <td>0</td>\n",
       "      <td>1</td>\n",
       "      <td>0</td>\n",
       "      <td>1</td>\n",
       "      <td>0</td>\n",
       "      <td>0</td>\n",
       "      <td>0</td>\n",
       "      <td>0</td>\n",
       "      <td>0</td>\n",
       "      <td>1</td>\n",
       "      <td>0</td>\n",
       "      <td>0</td>\n",
       "      <td>0</td>\n",
       "      <td>0</td>\n",
       "      <td>0</td>\n",
       "      <td>0</td>\n",
       "      <td>1</td>\n",
       "      <td>0</td>\n",
       "      <td>0</td>\n",
       "      <td>0</td>\n",
       "      <td>0</td>\n",
       "      <td>0</td>\n",
       "      <td>0</td>\n",
       "      <td>1</td>\n",
       "    </tr>\n",
       "    <tr>\n",
       "      <th>4</th>\n",
       "      <td>0</td>\n",
       "      <td>0</td>\n",
       "      <td>0</td>\n",
       "      <td>1</td>\n",
       "      <td>1</td>\n",
       "      <td>0</td>\n",
       "      <td>1</td>\n",
       "      <td>0</td>\n",
       "      <td>0</td>\n",
       "      <td>0</td>\n",
       "      <td>0</td>\n",
       "      <td>0</td>\n",
       "      <td>0</td>\n",
       "      <td>1</td>\n",
       "      <td>0</td>\n",
       "      <td>0</td>\n",
       "      <td>0</td>\n",
       "      <td>0</td>\n",
       "      <td>0</td>\n",
       "      <td>0</td>\n",
       "      <td>1</td>\n",
       "      <td>0</td>\n",
       "      <td>0</td>\n",
       "      <td>0</td>\n",
       "      <td>0</td>\n",
       "      <td>0</td>\n",
       "      <td>0</td>\n",
       "      <td>1</td>\n",
       "    </tr>\n",
       "  </tbody>\n",
       "</table>\n",
       "</div>"
      ],
      "text/plain": [
       "   Survived  Pclass_1  Pclass_2  Pclass_3  Sex_0  Sex_1  SibSp_0  SibSp_1  SibSp_2  SibSp_3  SibSp_4  SibSp_5  SibSp_8  Parch_0  Parch_1  Parch_2  Parch_3  Parch_4  Parch_5  Parch_6  Fare_(-0.512, 102.466]  Fare_(102.466, 204.932]  Fare_(204.932, 307.398]  Fare_(307.398, 409.863]  Fare_(409.863, 512.329]  Embarked_C  Embarked_Q  Embarked_S\n",
       "0         0         0         0         1      1      0        0        1        0        0        0        0        0        1        0        0        0        0        0        0                       1                        0                        0                        0                        0           0           0           1\n",
       "1         1         1         0         0      0      1        0        1        0        0        0        0        0        1        0        0        0        0        0        0                       1                        0                        0                        0                        0           1           0           0\n",
       "2         1         0         0         1      0      1        1        0        0        0        0        0        0        1        0        0        0        0        0        0                       1                        0                        0                        0                        0           0           0           1\n",
       "3         1         1         0         0      0      1        0        1        0        0        0        0        0        1        0        0        0        0        0        0                       1                        0                        0                        0                        0           0           0           1\n",
       "4         0         0         0         1      1      0        1        0        0        0        0        0        0        1        0        0        0        0        0        0                       1                        0                        0                        0                        0           0           0           1"
      ]
     },
     "execution_count": 51,
     "metadata": {},
     "output_type": "execute_result"
    }
   ],
   "source": [
    "#One-Hot encoding applied on the dataset with binned variable\n",
    "one_hot_cols = dataset_bin.columns.tolist()\n",
    "one_hot_cols.remove('Survived')\n",
    "dataset_bin_enc = pd.get_dummies(dataset_bin, columns = one_hot_cols)\n",
    "\n",
    "dataset_bin_enc.head()"
   ]
  },
  {
   "cell_type": "code",
   "execution_count": 52,
   "id": "a37edb90",
   "metadata": {
    "execution": {
     "iopub.execute_input": "2022-06-18T19:10:20.098634Z",
     "iopub.status.busy": "2022-06-18T19:10:20.098031Z",
     "iopub.status.idle": "2022-06-18T19:10:20.111596Z",
     "shell.execute_reply": "2022-06-18T19:10:20.110792Z"
    },
    "papermill": {
     "duration": 0.057447,
     "end_time": "2022-06-18T19:10:20.113534",
     "exception": false,
     "start_time": "2022-06-18T19:10:20.056087",
     "status": "completed"
    },
    "tags": []
   },
   "outputs": [
    {
     "data": {
      "text/html": [
       "<div>\n",
       "<style scoped>\n",
       "    .dataframe tbody tr th:only-of-type {\n",
       "        vertical-align: middle;\n",
       "    }\n",
       "\n",
       "    .dataframe tbody tr th {\n",
       "        vertical-align: top;\n",
       "    }\n",
       "\n",
       "    .dataframe thead th {\n",
       "        text-align: right;\n",
       "    }\n",
       "</style>\n",
       "<table border=\"1\" class=\"dataframe\">\n",
       "  <thead>\n",
       "    <tr style=\"text-align: right;\">\n",
       "      <th></th>\n",
       "      <th>Survived</th>\n",
       "      <th>Pclass</th>\n",
       "      <th>Sex</th>\n",
       "      <th>SibSp</th>\n",
       "      <th>Parch</th>\n",
       "      <th>Fare</th>\n",
       "      <th>Embarked</th>\n",
       "    </tr>\n",
       "  </thead>\n",
       "  <tbody>\n",
       "    <tr>\n",
       "      <th>0</th>\n",
       "      <td>0</td>\n",
       "      <td>2</td>\n",
       "      <td>1</td>\n",
       "      <td>1</td>\n",
       "      <td>0</td>\n",
       "      <td>18</td>\n",
       "      <td>2</td>\n",
       "    </tr>\n",
       "    <tr>\n",
       "      <th>1</th>\n",
       "      <td>1</td>\n",
       "      <td>0</td>\n",
       "      <td>0</td>\n",
       "      <td>1</td>\n",
       "      <td>0</td>\n",
       "      <td>207</td>\n",
       "      <td>0</td>\n",
       "    </tr>\n",
       "    <tr>\n",
       "      <th>2</th>\n",
       "      <td>1</td>\n",
       "      <td>2</td>\n",
       "      <td>0</td>\n",
       "      <td>0</td>\n",
       "      <td>0</td>\n",
       "      <td>41</td>\n",
       "      <td>2</td>\n",
       "    </tr>\n",
       "    <tr>\n",
       "      <th>3</th>\n",
       "      <td>1</td>\n",
       "      <td>0</td>\n",
       "      <td>0</td>\n",
       "      <td>1</td>\n",
       "      <td>0</td>\n",
       "      <td>189</td>\n",
       "      <td>2</td>\n",
       "    </tr>\n",
       "    <tr>\n",
       "      <th>4</th>\n",
       "      <td>0</td>\n",
       "      <td>2</td>\n",
       "      <td>1</td>\n",
       "      <td>0</td>\n",
       "      <td>0</td>\n",
       "      <td>43</td>\n",
       "      <td>2</td>\n",
       "    </tr>\n",
       "  </tbody>\n",
       "</table>\n",
       "</div>"
      ],
      "text/plain": [
       "   Survived  Pclass  Sex  SibSp  Parch  Fare  Embarked\n",
       "0         0       2    1      1      0    18         2\n",
       "1         1       0    0      1      0   207         0\n",
       "2         1       2    0      0      0    41         2\n",
       "3         1       0    0      1      0   189         2\n",
       "4         0       2    1      0      0    43         2"
      ]
     },
     "execution_count": 52,
     "metadata": {},
     "output_type": "execute_result"
    }
   ],
   "source": [
    "# Label Encoding applied to continuous values\n",
    "dataset_con_enc = dataset_con.apply(LabelEncoder().fit_transform)\n",
    "\n",
    "dataset_con_enc.head()"
   ]
  },
  {
   "cell_type": "code",
   "execution_count": 53,
   "id": "6a4a586c",
   "metadata": {
    "execution": {
     "iopub.execute_input": "2022-06-18T19:10:20.197347Z",
     "iopub.status.busy": "2022-06-18T19:10:20.196739Z",
     "iopub.status.idle": "2022-06-18T19:10:21.700410Z",
     "shell.execute_reply": "2022-06-18T19:10:21.698770Z"
    },
    "papermill": {
     "duration": 1.549673,
     "end_time": "2022-06-18T19:10:21.703909",
     "exception": false,
     "start_time": "2022-06-18T19:10:20.154236",
     "status": "completed"
    },
    "tags": []
   },
   "outputs": [
    {
     "data": {
      "image/png": "[encoded data removed]",
      "text/plain": [
       "<Figure size 1800x720 with 4 Axes>"
      ]
     },
     "metadata": {},
     "output_type": "display_data"
    }
   ],
   "source": [
    "# a correlation plot\n",
    "plt.style.use('seaborn-whitegrid')\n",
    "fig = plt.figure(figsize=(25,10)) \n",
    "\n",
    "plt.subplot(1, 2, 1)\n",
    "mask = np.zeros_like(dataset_bin_enc.corr(), dtype=np.bool)\n",
    "mask[np.triu_indices_from(mask)] = True\n",
    "sns.heatmap(dataset_bin_enc.corr(), \n",
    "            vmin=-1, vmax=1, \n",
    "            square=True, \n",
    "            cmap=sns.color_palette(\"RdBu_r\", 100), \n",
    "            mask=mask, \n",
    "            linewidths=.5);\n",
    "\n",
    "plt.subplot(1, 2, 2)\n",
    "mask = np.zeros_like(dataset_con_enc.corr(), dtype=np.bool)\n",
    "mask[np.triu_indices_from(mask)] = True\n",
    "sns.heatmap(dataset_con_enc.corr(), \n",
    "            vmin=-1, vmax=1, \n",
    "            square=True, \n",
    "            cmap=sns.color_palette(\"RdBu_r\", 100), \n",
    "            mask=mask, \n",
    "            linewidths=.5);"
   ]
  },
  {
   "cell_type": "code",
   "execution_count": 54,
   "id": "7cfb2143",
   "metadata": {
    "execution": {
     "iopub.execute_input": "2022-06-18T19:10:21.791480Z",
     "iopub.status.busy": "2022-06-18T19:10:21.791076Z",
     "iopub.status.idle": "2022-06-18T19:10:22.359699Z",
     "shell.execute_reply": "2022-06-18T19:10:22.358973Z"
    },
    "papermill": {
     "duration": 0.614827,
     "end_time": "2022-06-18T19:10:22.361629",
     "exception": false,
     "start_time": "2022-06-18T19:10:21.746802",
     "status": "completed"
    },
    "tags": []
   },
   "outputs": [
    {
     "data": {
      "image/png": "[encoded data removed]",
      "text/plain": [
       "<Figure size 1440x216 with 1 Axes>"
      ]
     },
     "metadata": {},
     "output_type": "display_data"
    }
   ],
   "source": [
    "# Using Random Forest to gain an insight on Feature Importance\n",
    "clf = RandomForestClassifier()\n",
    "clf.fit(dataset_con_enc.drop('Survived', axis=1), dataset_con_enc['Survived'])\n",
    "\n",
    "plt.style.use('seaborn-whitegrid')\n",
    "importance = clf.feature_importances_\n",
    "importance = pd.DataFrame(importance, index=dataset_con_enc.drop('Survived', axis=1).columns, columns=[\"Importance\"])\n",
    "importance.sort_values(by='Importance', ascending=True).plot(kind='barh', figsize=(20,len(importance)/2));\n"
   ]
  },
  {
   "cell_type": "code",
   "execution_count": 55,
   "id": "a44ed48c",
   "metadata": {
    "execution": {
     "iopub.execute_input": "2022-06-18T19:10:22.448264Z",
     "iopub.status.busy": "2022-06-18T19:10:22.447846Z",
     "iopub.status.idle": "2022-06-18T19:10:22.456970Z",
     "shell.execute_reply": "2022-06-18T19:10:22.456253Z"
    },
    "papermill": {
     "duration": 0.054967,
     "end_time": "2022-06-18T19:10:22.458991",
     "exception": false,
     "start_time": "2022-06-18T19:10:22.404024",
     "status": "completed"
    },
    "tags": []
   },
   "outputs": [
    {
     "data": {
      "text/html": [
       "<div>\n",
       "<style scoped>\n",
       "    .dataframe tbody tr th:only-of-type {\n",
       "        vertical-align: middle;\n",
       "    }\n",
       "\n",
       "    .dataframe tbody tr th {\n",
       "        vertical-align: top;\n",
       "    }\n",
       "\n",
       "    .dataframe thead th {\n",
       "        text-align: right;\n",
       "    }\n",
       "</style>\n",
       "<table border=\"1\" class=\"dataframe\">\n",
       "  <thead>\n",
       "    <tr style=\"text-align: right;\">\n",
       "      <th></th>\n",
       "      <th>Importance</th>\n",
       "    </tr>\n",
       "  </thead>\n",
       "  <tbody>\n",
       "    <tr>\n",
       "      <th>Fare</th>\n",
       "      <td>0.415268</td>\n",
       "    </tr>\n",
       "    <tr>\n",
       "      <th>Sex</th>\n",
       "      <td>0.325654</td>\n",
       "    </tr>\n",
       "    <tr>\n",
       "      <th>Pclass</th>\n",
       "      <td>0.089954</td>\n",
       "    </tr>\n",
       "    <tr>\n",
       "      <th>SibSp</th>\n",
       "      <td>0.066010</td>\n",
       "    </tr>\n",
       "    <tr>\n",
       "      <th>Parch</th>\n",
       "      <td>0.062064</td>\n",
       "    </tr>\n",
       "    <tr>\n",
       "      <th>Embarked</th>\n",
       "      <td>0.041052</td>\n",
       "    </tr>\n",
       "  </tbody>\n",
       "</table>\n",
       "</div>"
      ],
      "text/plain": [
       "          Importance\n",
       "Fare        0.415268\n",
       "Sex         0.325654\n",
       "Pclass      0.089954\n",
       "SibSp       0.066010\n",
       "Parch       0.062064\n",
       "Embarked    0.041052"
      ]
     },
     "execution_count": 55,
     "metadata": {},
     "output_type": "execute_result"
    }
   ],
   "source": [
    "importance.sort_values(by='Importance', ascending=False)"
   ]
  },
  {
   "cell_type": "markdown",
   "id": "2505adf5",
   "metadata": {
    "papermill": {
     "duration": 0.042357,
     "end_time": "2022-06-18T19:10:22.543175",
     "exception": false,
     "start_time": "2022-06-18T19:10:22.500818",
     "status": "completed"
    },
    "tags": []
   },
   "source": [
    "# Machine Learning\n",
    "* split data - data already split\n",
    "* train model\n",
    "* tune model\n",
    "* predict"
   ]
  },
  {
   "cell_type": "code",
   "execution_count": 56,
   "id": "5df7f546",
   "metadata": {
    "execution": {
     "iopub.execute_input": "2022-06-18T19:10:22.631619Z",
     "iopub.status.busy": "2022-06-18T19:10:22.630986Z",
     "iopub.status.idle": "2022-06-18T19:10:22.634685Z",
     "shell.execute_reply": "2022-06-18T19:10:22.634025Z"
    },
    "papermill": {
     "duration": 0.050573,
     "end_time": "2022-06-18T19:10:22.636690",
     "exception": false,
     "start_time": "2022-06-18T19:10:22.586117",
     "status": "completed"
    },
    "tags": []
   },
   "outputs": [],
   "source": [
    "dataset = dataset_con_enc"
   ]
  },
  {
   "cell_type": "code",
   "execution_count": 57,
   "id": "38f6678e",
   "metadata": {
    "execution": {
     "iopub.execute_input": "2022-06-18T19:10:22.723721Z",
     "iopub.status.busy": "2022-06-18T19:10:22.723081Z",
     "iopub.status.idle": "2022-06-18T19:10:22.734253Z",
     "shell.execute_reply": "2022-06-18T19:10:22.733446Z"
    },
    "papermill": {
     "duration": 0.057189,
     "end_time": "2022-06-18T19:10:22.736216",
     "exception": false,
     "start_time": "2022-06-18T19:10:22.679027",
     "status": "completed"
    },
    "tags": []
   },
   "outputs": [
    {
     "data": {
      "text/html": [
       "<div>\n",
       "<style scoped>\n",
       "    .dataframe tbody tr th:only-of-type {\n",
       "        vertical-align: middle;\n",
       "    }\n",
       "\n",
       "    .dataframe tbody tr th {\n",
       "        vertical-align: top;\n",
       "    }\n",
       "\n",
       "    .dataframe thead th {\n",
       "        text-align: right;\n",
       "    }\n",
       "</style>\n",
       "<table border=\"1\" class=\"dataframe\">\n",
       "  <thead>\n",
       "    <tr style=\"text-align: right;\">\n",
       "      <th></th>\n",
       "      <th>Survived</th>\n",
       "      <th>Pclass</th>\n",
       "      <th>Sex</th>\n",
       "      <th>SibSp</th>\n",
       "      <th>Parch</th>\n",
       "      <th>Fare</th>\n",
       "      <th>Embarked</th>\n",
       "    </tr>\n",
       "  </thead>\n",
       "  <tbody>\n",
       "    <tr>\n",
       "      <th>0</th>\n",
       "      <td>0</td>\n",
       "      <td>2</td>\n",
       "      <td>1</td>\n",
       "      <td>1</td>\n",
       "      <td>0</td>\n",
       "      <td>18</td>\n",
       "      <td>2</td>\n",
       "    </tr>\n",
       "    <tr>\n",
       "      <th>1</th>\n",
       "      <td>1</td>\n",
       "      <td>0</td>\n",
       "      <td>0</td>\n",
       "      <td>1</td>\n",
       "      <td>0</td>\n",
       "      <td>207</td>\n",
       "      <td>0</td>\n",
       "    </tr>\n",
       "    <tr>\n",
       "      <th>2</th>\n",
       "      <td>1</td>\n",
       "      <td>2</td>\n",
       "      <td>0</td>\n",
       "      <td>0</td>\n",
       "      <td>0</td>\n",
       "      <td>41</td>\n",
       "      <td>2</td>\n",
       "    </tr>\n",
       "    <tr>\n",
       "      <th>3</th>\n",
       "      <td>1</td>\n",
       "      <td>0</td>\n",
       "      <td>0</td>\n",
       "      <td>1</td>\n",
       "      <td>0</td>\n",
       "      <td>189</td>\n",
       "      <td>2</td>\n",
       "    </tr>\n",
       "    <tr>\n",
       "      <th>4</th>\n",
       "      <td>0</td>\n",
       "      <td>2</td>\n",
       "      <td>1</td>\n",
       "      <td>0</td>\n",
       "      <td>0</td>\n",
       "      <td>43</td>\n",
       "      <td>2</td>\n",
       "    </tr>\n",
       "  </tbody>\n",
       "</table>\n",
       "</div>"
      ],
      "text/plain": [
       "   Survived  Pclass  Sex  SibSp  Parch  Fare  Embarked\n",
       "0         0       2    1      1      0    18         2\n",
       "1         1       0    0      1      0   207         0\n",
       "2         1       2    0      0      0    41         2\n",
       "3         1       0    0      1      0   189         2\n",
       "4         0       2    1      0      0    43         2"
      ]
     },
     "execution_count": 57,
     "metadata": {},
     "output_type": "execute_result"
    }
   ],
   "source": [
    "dataset.head()"
   ]
  },
  {
   "cell_type": "code",
   "execution_count": 58,
   "id": "2807a641",
   "metadata": {
    "execution": {
     "iopub.execute_input": "2022-06-18T19:10:22.823675Z",
     "iopub.status.busy": "2022-06-18T19:10:22.823058Z",
     "iopub.status.idle": "2022-06-18T19:10:22.829243Z",
     "shell.execute_reply": "2022-06-18T19:10:22.828197Z"
    },
    "papermill": {
     "duration": 0.0529,
     "end_time": "2022-06-18T19:10:22.831533",
     "exception": false,
     "start_time": "2022-06-18T19:10:22.778633",
     "status": "completed"
    },
    "tags": []
   },
   "outputs": [],
   "source": [
    "X_train = dataset.drop(['Survived'], axis=1)\n",
    "train_columns = X_train.columns\n",
    "y_train = dataset['Survived'].astype('int64')"
   ]
  },
  {
   "cell_type": "code",
   "execution_count": 59,
   "id": "9d0cef2d",
   "metadata": {
    "execution": {
     "iopub.execute_input": "2022-06-18T19:10:22.919179Z",
     "iopub.status.busy": "2022-06-18T19:10:22.918567Z",
     "iopub.status.idle": "2022-06-18T19:10:22.930362Z",
     "shell.execute_reply": "2022-06-18T19:10:22.929302Z"
    },
    "papermill": {
     "duration": 0.058086,
     "end_time": "2022-06-18T19:10:22.932499",
     "exception": false,
     "start_time": "2022-06-18T19:10:22.874413",
     "status": "completed"
    },
    "tags": []
   },
   "outputs": [
    {
     "data": {
      "text/html": [
       "<div>\n",
       "<style scoped>\n",
       "    .dataframe tbody tr th:only-of-type {\n",
       "        vertical-align: middle;\n",
       "    }\n",
       "\n",
       "    .dataframe tbody tr th {\n",
       "        vertical-align: top;\n",
       "    }\n",
       "\n",
       "    .dataframe thead th {\n",
       "        text-align: right;\n",
       "    }\n",
       "</style>\n",
       "<table border=\"1\" class=\"dataframe\">\n",
       "  <thead>\n",
       "    <tr style=\"text-align: right;\">\n",
       "      <th></th>\n",
       "      <th>Pclass</th>\n",
       "      <th>Sex</th>\n",
       "      <th>SibSp</th>\n",
       "      <th>Parch</th>\n",
       "      <th>Fare</th>\n",
       "      <th>Embarked</th>\n",
       "    </tr>\n",
       "  </thead>\n",
       "  <tbody>\n",
       "    <tr>\n",
       "      <th>0</th>\n",
       "      <td>2</td>\n",
       "      <td>1</td>\n",
       "      <td>1</td>\n",
       "      <td>0</td>\n",
       "      <td>18</td>\n",
       "      <td>2</td>\n",
       "    </tr>\n",
       "    <tr>\n",
       "      <th>1</th>\n",
       "      <td>0</td>\n",
       "      <td>0</td>\n",
       "      <td>1</td>\n",
       "      <td>0</td>\n",
       "      <td>207</td>\n",
       "      <td>0</td>\n",
       "    </tr>\n",
       "    <tr>\n",
       "      <th>2</th>\n",
       "      <td>2</td>\n",
       "      <td>0</td>\n",
       "      <td>0</td>\n",
       "      <td>0</td>\n",
       "      <td>41</td>\n",
       "      <td>2</td>\n",
       "    </tr>\n",
       "    <tr>\n",
       "      <th>3</th>\n",
       "      <td>0</td>\n",
       "      <td>0</td>\n",
       "      <td>1</td>\n",
       "      <td>0</td>\n",
       "      <td>189</td>\n",
       "      <td>2</td>\n",
       "    </tr>\n",
       "    <tr>\n",
       "      <th>4</th>\n",
       "      <td>2</td>\n",
       "      <td>1</td>\n",
       "      <td>0</td>\n",
       "      <td>0</td>\n",
       "      <td>43</td>\n",
       "      <td>2</td>\n",
       "    </tr>\n",
       "  </tbody>\n",
       "</table>\n",
       "</div>"
      ],
      "text/plain": [
       "   Pclass  Sex  SibSp  Parch  Fare  Embarked\n",
       "0       2    1      1      0    18         2\n",
       "1       0    0      1      0   207         0\n",
       "2       2    0      0      0    41         2\n",
       "3       0    0      1      0   189         2\n",
       "4       2    1      0      0    43         2"
      ]
     },
     "execution_count": 59,
     "metadata": {},
     "output_type": "execute_result"
    }
   ],
   "source": [
    "X_train.head()"
   ]
  },
  {
   "cell_type": "code",
   "execution_count": 60,
   "id": "bc973083",
   "metadata": {
    "execution": {
     "iopub.execute_input": "2022-06-18T19:10:23.020420Z",
     "iopub.status.busy": "2022-06-18T19:10:23.019541Z",
     "iopub.status.idle": "2022-06-18T19:10:23.026924Z",
     "shell.execute_reply": "2022-06-18T19:10:23.026088Z"
    },
    "papermill": {
     "duration": 0.053552,
     "end_time": "2022-06-18T19:10:23.028985",
     "exception": false,
     "start_time": "2022-06-18T19:10:22.975433",
     "status": "completed"
    },
    "tags": []
   },
   "outputs": [
    {
     "data": {
      "text/plain": [
       "0    0\n",
       "1    1\n",
       "2    1\n",
       "3    1\n",
       "4    0\n",
       "Name: Survived, dtype: int64"
      ]
     },
     "execution_count": 60,
     "metadata": {},
     "output_type": "execute_result"
    }
   ],
   "source": [
    "y_train.head()"
   ]
  },
  {
   "cell_type": "code",
   "execution_count": 61,
   "id": "b691ff3f",
   "metadata": {
    "execution": {
     "iopub.execute_input": "2022-06-18T19:10:23.118775Z",
     "iopub.status.busy": "2022-06-18T19:10:23.117685Z",
     "iopub.status.idle": "2022-06-18T19:10:23.124626Z",
     "shell.execute_reply": "2022-06-18T19:10:23.123597Z"
    },
    "papermill": {
     "duration": 0.054284,
     "end_time": "2022-06-18T19:10:23.126957",
     "exception": false,
     "start_time": "2022-06-18T19:10:23.072673",
     "status": "completed"
    },
    "tags": []
   },
   "outputs": [
    {
     "data": {
      "text/plain": [
       "(889, 6)"
      ]
     },
     "execution_count": 61,
     "metadata": {},
     "output_type": "execute_result"
    }
   ],
   "source": [
    "X_train.shape"
   ]
  },
  {
   "cell_type": "code",
   "execution_count": 62,
   "id": "4d9d67ae",
   "metadata": {
    "execution": {
     "iopub.execute_input": "2022-06-18T19:10:23.216301Z",
     "iopub.status.busy": "2022-06-18T19:10:23.215871Z",
     "iopub.status.idle": "2022-06-18T19:10:23.222182Z",
     "shell.execute_reply": "2022-06-18T19:10:23.221148Z"
    },
    "papermill": {
     "duration": 0.053596,
     "end_time": "2022-06-18T19:10:23.224197",
     "exception": false,
     "start_time": "2022-06-18T19:10:23.170601",
     "status": "completed"
    },
    "tags": []
   },
   "outputs": [
    {
     "data": {
      "text/plain": [
       "(889,)"
      ]
     },
     "execution_count": 62,
     "metadata": {},
     "output_type": "execute_result"
    }
   ],
   "source": [
    "y_train.shape"
   ]
  },
  {
   "cell_type": "code",
   "execution_count": 63,
   "id": "a82e0986",
   "metadata": {
    "execution": {
     "iopub.execute_input": "2022-06-18T19:10:23.340775Z",
     "iopub.status.busy": "2022-06-18T19:10:23.340153Z",
     "iopub.status.idle": "2022-06-18T19:10:23.346769Z",
     "shell.execute_reply": "2022-06-18T19:10:23.346019Z"
    },
    "papermill": {
     "duration": 0.081171,
     "end_time": "2022-06-18T19:10:23.348992",
     "exception": false,
     "start_time": "2022-06-18T19:10:23.267821",
     "status": "completed"
    },
    "tags": []
   },
   "outputs": [],
   "source": [
    "def fit_ml_algo(algo, X_train, y_train, cv):\n",
    "    model = algo.fit(X_train, y_train)\n",
    "    acc = model.score(X_train, y_train)\n",
    "    \n",
    "    train_pred = model_selection.cross_val_predict(\n",
    "            algo,\n",
    "            X_train,\n",
    "            y_train,\n",
    "            cv = cv,\n",
    "            n_jobs = -1)\n",
    "    acc_cv = metrics.accuracy_score(y_train, train_pred)\n",
    "    \n",
    "    return train_pred, acc, acc_cv"
   ]
  },
  {
   "cell_type": "code",
   "execution_count": 64,
   "id": "45402c26",
   "metadata": {
    "execution": {
     "iopub.execute_input": "2022-06-18T19:10:23.440526Z",
     "iopub.status.busy": "2022-06-18T19:10:23.439566Z",
     "iopub.status.idle": "2022-06-18T19:10:25.363837Z",
     "shell.execute_reply": "2022-06-18T19:10:25.362821Z"
    },
    "papermill": {
     "duration": 1.973124,
     "end_time": "2022-06-18T19:10:25.366933",
     "exception": false,
     "start_time": "2022-06-18T19:10:23.393809",
     "status": "completed"
    },
    "tags": []
   },
   "outputs": [],
   "source": [
    "# Logistic regression\n",
    "start_time = time.time()\n",
    "train_pred_log, acc_log, acc_cv_log = fit_ml_algo(LogisticRegression(),\n",
    "                                                 X_train,\n",
    "                                                 y_train,\n",
    "                                                 10)\n",
    "log_time = time.time() - start_time"
   ]
  },
  {
   "cell_type": "code",
   "execution_count": 65,
   "id": "1b219451",
   "metadata": {
    "execution": {
     "iopub.execute_input": "2022-06-18T19:10:25.461683Z",
     "iopub.status.busy": "2022-06-18T19:10:25.461042Z",
     "iopub.status.idle": "2022-06-18T19:10:25.606995Z",
     "shell.execute_reply": "2022-06-18T19:10:25.605676Z"
    },
    "papermill": {
     "duration": 0.194851,
     "end_time": "2022-06-18T19:10:25.610779",
     "exception": false,
     "start_time": "2022-06-18T19:10:25.415928",
     "status": "completed"
    },
    "tags": []
   },
   "outputs": [],
   "source": [
    "# KNN\n",
    "start_time = time.time()\n",
    "train_pred_knn, acc_knn, acc_cv_knn = fit_ml_algo(KNeighborsClassifier(),\n",
    "                                                 X_train,\n",
    "                                                 y_train,\n",
    "                                                 10)\n",
    "knn_time = time.time() - start_time"
   ]
  },
  {
   "cell_type": "code",
   "execution_count": 66,
   "id": "454d052e",
   "metadata": {
    "execution": {
     "iopub.execute_input": "2022-06-18T19:10:25.721640Z",
     "iopub.status.busy": "2022-06-18T19:10:25.721251Z",
     "iopub.status.idle": "2022-06-18T19:10:25.799572Z",
     "shell.execute_reply": "2022-06-18T19:10:25.798793Z"
    },
    "papermill": {
     "duration": 0.126613,
     "end_time": "2022-06-18T19:10:25.802010",
     "exception": false,
     "start_time": "2022-06-18T19:10:25.675397",
     "status": "completed"
    },
    "tags": []
   },
   "outputs": [],
   "source": [
    "# Stochastic Gradient Descent\n",
    "start_time = time.time()\n",
    "train_pred_sgd, acc_sgd, acc_cv_sgd = fit_ml_algo(SGDClassifier(),\n",
    "                                                 X_train,\n",
    "                                                 y_train,\n",
    "                                                 10)\n",
    "sgd_time = time.time() - start_time"
   ]
  },
  {
   "cell_type": "code",
   "execution_count": 67,
   "id": "9e86e6d9",
   "metadata": {
    "execution": {
     "iopub.execute_input": "2022-06-18T19:10:25.889994Z",
     "iopub.status.busy": "2022-06-18T19:10:25.889109Z",
     "iopub.status.idle": "2022-06-18T19:10:25.962588Z",
     "shell.execute_reply": "2022-06-18T19:10:25.961528Z"
    },
    "papermill": {
     "duration": 0.120264,
     "end_time": "2022-06-18T19:10:25.965131",
     "exception": false,
     "start_time": "2022-06-18T19:10:25.844867",
     "status": "completed"
    },
    "tags": []
   },
   "outputs": [],
   "source": [
    "# Decision Tree Classifier\n",
    "start_time = time.time()\n",
    "train_pred_dt, acc_dt, acc_cv_dt = fit_ml_algo(DecisionTreeClassifier(),\n",
    "                                                 X_train,\n",
    "                                                 y_train,\n",
    "                                                 10)\n",
    "dt_time = time.time() - start_time"
   ]
  },
  {
   "cell_type": "code",
   "execution_count": 68,
   "id": "65417a67",
   "metadata": {
    "execution": {
     "iopub.execute_input": "2022-06-18T19:10:26.063783Z",
     "iopub.status.busy": "2022-06-18T19:10:26.063217Z",
     "iopub.status.idle": "2022-06-18T19:10:26.140718Z",
     "shell.execute_reply": "2022-06-18T19:10:26.139786Z"
    },
    "papermill": {
     "duration": 0.135054,
     "end_time": "2022-06-18T19:10:26.143220",
     "exception": false,
     "start_time": "2022-06-18T19:10:26.008166",
     "status": "completed"
    },
    "tags": []
   },
   "outputs": [],
   "source": [
    "# Gaussian Naive Bayes\n",
    "start_time = time.time()\n",
    "train_pred_gauss, acc_gauss, acc_cv_gauss = fit_ml_algo(GaussianNB(),\n",
    "                                                       X_train,\n",
    "                                                       y_train,\n",
    "                                                       10)\n",
    "\n",
    "gauss_time = time.time() - start_time"
   ]
  },
  {
   "cell_type": "code",
   "execution_count": 69,
   "id": "3a8c3c4b",
   "metadata": {
    "execution": {
     "iopub.execute_input": "2022-06-18T19:10:26.232283Z",
     "iopub.status.busy": "2022-06-18T19:10:26.231664Z",
     "iopub.status.idle": "2022-06-18T19:10:26.456870Z",
     "shell.execute_reply": "2022-06-18T19:10:26.456071Z"
    },
    "papermill": {
     "duration": 0.273604,
     "end_time": "2022-06-18T19:10:26.460035",
     "exception": false,
     "start_time": "2022-06-18T19:10:26.186431",
     "status": "completed"
    },
    "tags": []
   },
   "outputs": [],
   "source": [
    "# Support Vector Machines\n",
    "start_time = time.time()\n",
    "train_pred_gauss, acc_svc, acc_cv_svc = fit_ml_algo(LinearSVC(),\n",
    "                                                       X_train,\n",
    "                                                       y_train,\n",
    "                                                       10)\n",
    "\n",
    "svc_time = time.time() - start_time"
   ]
  },
  {
   "cell_type": "code",
   "execution_count": 70,
   "id": "592bf585",
   "metadata": {
    "execution": {
     "iopub.execute_input": "2022-06-18T19:10:26.564698Z",
     "iopub.status.busy": "2022-06-18T19:10:26.563617Z",
     "iopub.status.idle": "2022-06-18T19:10:27.242882Z",
     "shell.execute_reply": "2022-06-18T19:10:27.242110Z"
    },
    "papermill": {
     "duration": 0.733252,
     "end_time": "2022-06-18T19:10:27.245561",
     "exception": false,
     "start_time": "2022-06-18T19:10:26.512309",
     "status": "completed"
    },
    "tags": []
   },
   "outputs": [],
   "source": [
    "# Gradient Boosting Trees\n",
    "start_time = time.time()\n",
    "train_pred_gbt, acc_gbt, acc_cv_gbt = fit_ml_algo(GradientBoostingClassifier(), \n",
    "                                                                       X_train, \n",
    "                                                                       y_train,\n",
    "                                                                       10)\n",
    "gbt_time = (time.time() - start_time)"
   ]
  },
  {
   "cell_type": "code",
   "execution_count": 71,
   "id": "75e7e468",
   "metadata": {
    "execution": {
     "iopub.execute_input": "2022-06-18T19:10:27.334545Z",
     "iopub.status.busy": "2022-06-18T19:10:27.333996Z",
     "iopub.status.idle": "2022-06-18T19:10:27.352350Z",
     "shell.execute_reply": "2022-06-18T19:10:27.351310Z"
    },
    "papermill": {
     "duration": 0.065972,
     "end_time": "2022-06-18T19:10:27.354621",
     "exception": false,
     "start_time": "2022-06-18T19:10:27.288649",
     "status": "completed"
    },
    "tags": []
   },
   "outputs": [
    {
     "data": {
      "text/html": [
       "<div>\n",
       "<style scoped>\n",
       "    .dataframe tbody tr th:only-of-type {\n",
       "        vertical-align: middle;\n",
       "    }\n",
       "\n",
       "    .dataframe tbody tr th {\n",
       "        vertical-align: top;\n",
       "    }\n",
       "\n",
       "    .dataframe thead th {\n",
       "        text-align: right;\n",
       "    }\n",
       "</style>\n",
       "<table border=\"1\" class=\"dataframe\">\n",
       "  <thead>\n",
       "    <tr style=\"text-align: right;\">\n",
       "      <th></th>\n",
       "      <th>Model</th>\n",
       "      <th>Score</th>\n",
       "      <th>CV Score</th>\n",
       "      <th>Time</th>\n",
       "    </tr>\n",
       "  </thead>\n",
       "  <tbody>\n",
       "    <tr>\n",
       "      <th>6</th>\n",
       "      <td>Gradient Boosting Trees</td>\n",
       "      <td>0.863892</td>\n",
       "      <td>0.863892</td>\n",
       "      <td>0.863892</td>\n",
       "    </tr>\n",
       "    <tr>\n",
       "      <th>3</th>\n",
       "      <td>Decision Tree</td>\n",
       "      <td>0.924634</td>\n",
       "      <td>0.797525</td>\n",
       "      <td>0.067671</td>\n",
       "    </tr>\n",
       "    <tr>\n",
       "      <th>0</th>\n",
       "      <td>Logistic Regression</td>\n",
       "      <td>0.794151</td>\n",
       "      <td>0.781777</td>\n",
       "      <td>1.917428</td>\n",
       "    </tr>\n",
       "    <tr>\n",
       "      <th>4</th>\n",
       "      <td>Gaussian Naive Bayes</td>\n",
       "      <td>0.767154</td>\n",
       "      <td>0.763780</td>\n",
       "      <td>0.071395</td>\n",
       "    </tr>\n",
       "    <tr>\n",
       "      <th>1</th>\n",
       "      <td>KNN</td>\n",
       "      <td>0.805399</td>\n",
       "      <td>0.740157</td>\n",
       "      <td>0.139779</td>\n",
       "    </tr>\n",
       "    <tr>\n",
       "      <th>5</th>\n",
       "      <td>Support Vector Machines</td>\n",
       "      <td>0.701912</td>\n",
       "      <td>0.725534</td>\n",
       "      <td>0.219921</td>\n",
       "    </tr>\n",
       "    <tr>\n",
       "      <th>2</th>\n",
       "      <td>Stochastic Gradient Descent</td>\n",
       "      <td>0.591676</td>\n",
       "      <td>0.596175</td>\n",
       "      <td>0.073782</td>\n",
       "    </tr>\n",
       "  </tbody>\n",
       "</table>\n",
       "</div>"
      ],
      "text/plain": [
       "                         Model     Score  CV Score      Time\n",
       "6      Gradient Boosting Trees  0.863892  0.863892  0.863892\n",
       "3                Decision Tree  0.924634  0.797525  0.067671\n",
       "0          Logistic Regression  0.794151  0.781777  1.917428\n",
       "4         Gaussian Naive Bayes  0.767154  0.763780  0.071395\n",
       "1                          KNN  0.805399  0.740157  0.139779\n",
       "5      Support Vector Machines  0.701912  0.725534  0.219921\n",
       "2  Stochastic Gradient Descent  0.591676  0.596175  0.073782"
      ]
     },
     "execution_count": 71,
     "metadata": {},
     "output_type": "execute_result"
    }
   ],
   "source": [
    "models = pd.DataFrame({\n",
    "    'Model' : ['Logistic Regression', 'KNN', 'Stochastic Gradient Descent', \n",
    "               'Decision Tree','Gaussian Naive Bayes','Support Vector Machines',\n",
    "              'Gradient Boosting Trees'],\n",
    "    'Score' : [\n",
    "        acc_log,\n",
    "        acc_knn,\n",
    "        acc_sgd,\n",
    "        acc_dt,\n",
    "        acc_gauss,\n",
    "        acc_svc,\n",
    "        acc_gbt\n",
    "    ],\n",
    "    'CV Score' : [\n",
    "        acc_cv_log,\n",
    "        acc_cv_knn,\n",
    "        acc_cv_sgd,\n",
    "        acc_cv_dt,\n",
    "        acc_cv_gauss,\n",
    "        acc_cv_svc,\n",
    "        acc_gbt\n",
    "    ],\n",
    "    'Time' : [\n",
    "        log_time,\n",
    "        knn_time,\n",
    "        sgd_time,\n",
    "        dt_time,\n",
    "        gauss_time,\n",
    "        svc_time,\n",
    "        acc_gbt\n",
    "    ]})\n",
    "models.sort_values(by='CV Score', ascending=False)"
   ]
  },
  {
   "cell_type": "code",
   "execution_count": 72,
   "id": "0d71dea7",
   "metadata": {
    "execution": {
     "iopub.execute_input": "2022-06-18T19:10:27.450979Z",
     "iopub.status.busy": "2022-06-18T19:10:27.450100Z",
     "iopub.status.idle": "2022-06-18T19:10:27.579512Z",
     "shell.execute_reply": "2022-06-18T19:10:27.578502Z"
    },
    "papermill": {
     "duration": 0.183411,
     "end_time": "2022-06-18T19:10:27.581622",
     "exception": false,
     "start_time": "2022-06-18T19:10:27.398211",
     "status": "completed"
    },
    "tags": []
   },
   "outputs": [
    {
     "data": {
      "text/plain": [
       "GradientBoostingClassifier()"
      ]
     },
     "execution_count": 72,
     "metadata": {},
     "output_type": "execute_result"
    }
   ],
   "source": [
    "# Gradient Boosting Trees\n",
    "start_time = time.time()\n",
    "gbt = GradientBoostingClassifier()\n",
    "gbt.fit(X_train, y_train)"
   ]
  },
  {
   "cell_type": "markdown",
   "id": "0c8896d8",
   "metadata": {
    "papermill": {
     "duration": 0.04305,
     "end_time": "2022-06-18T19:10:27.669017",
     "exception": false,
     "start_time": "2022-06-18T19:10:27.625967",
     "status": "completed"
    },
    "tags": []
   },
   "source": [
    "# Submission"
   ]
  },
  {
   "cell_type": "code",
   "execution_count": 73,
   "id": "1b5da444",
   "metadata": {
    "execution": {
     "iopub.execute_input": "2022-06-18T19:10:27.757686Z",
     "iopub.status.busy": "2022-06-18T19:10:27.757273Z",
     "iopub.status.idle": "2022-06-18T19:10:27.768737Z",
     "shell.execute_reply": "2022-06-18T19:10:27.767966Z"
    },
    "papermill": {
     "duration": 0.058551,
     "end_time": "2022-06-18T19:10:27.770750",
     "exception": false,
     "start_time": "2022-06-18T19:10:27.712199",
     "status": "completed"
    },
    "tags": []
   },
   "outputs": [
    {
     "data": {
      "text/html": [
       "<div>\n",
       "<style scoped>\n",
       "    .dataframe tbody tr th:only-of-type {\n",
       "        vertical-align: middle;\n",
       "    }\n",
       "\n",
       "    .dataframe tbody tr th {\n",
       "        vertical-align: top;\n",
       "    }\n",
       "\n",
       "    .dataframe thead th {\n",
       "        text-align: right;\n",
       "    }\n",
       "</style>\n",
       "<table border=\"1\" class=\"dataframe\">\n",
       "  <thead>\n",
       "    <tr style=\"text-align: right;\">\n",
       "      <th></th>\n",
       "      <th>Pclass</th>\n",
       "      <th>Sex</th>\n",
       "      <th>SibSp</th>\n",
       "      <th>Parch</th>\n",
       "      <th>Fare</th>\n",
       "      <th>Embarked</th>\n",
       "    </tr>\n",
       "  </thead>\n",
       "  <tbody>\n",
       "    <tr>\n",
       "      <th>0</th>\n",
       "      <td>2</td>\n",
       "      <td>1</td>\n",
       "      <td>1</td>\n",
       "      <td>0</td>\n",
       "      <td>18</td>\n",
       "      <td>2</td>\n",
       "    </tr>\n",
       "    <tr>\n",
       "      <th>1</th>\n",
       "      <td>0</td>\n",
       "      <td>0</td>\n",
       "      <td>1</td>\n",
       "      <td>0</td>\n",
       "      <td>207</td>\n",
       "      <td>0</td>\n",
       "    </tr>\n",
       "    <tr>\n",
       "      <th>2</th>\n",
       "      <td>2</td>\n",
       "      <td>0</td>\n",
       "      <td>0</td>\n",
       "      <td>0</td>\n",
       "      <td>41</td>\n",
       "      <td>2</td>\n",
       "    </tr>\n",
       "    <tr>\n",
       "      <th>3</th>\n",
       "      <td>0</td>\n",
       "      <td>0</td>\n",
       "      <td>1</td>\n",
       "      <td>0</td>\n",
       "      <td>189</td>\n",
       "      <td>2</td>\n",
       "    </tr>\n",
       "    <tr>\n",
       "      <th>4</th>\n",
       "      <td>2</td>\n",
       "      <td>1</td>\n",
       "      <td>0</td>\n",
       "      <td>0</td>\n",
       "      <td>43</td>\n",
       "      <td>2</td>\n",
       "    </tr>\n",
       "  </tbody>\n",
       "</table>\n",
       "</div>"
      ],
      "text/plain": [
       "   Pclass  Sex  SibSp  Parch  Fare  Embarked\n",
       "0       2    1      1      0    18         2\n",
       "1       0    0      1      0   207         0\n",
       "2       2    0      0      0    41         2\n",
       "3       0    0      1      0   189         2\n",
       "4       2    1      0      0    43         2"
      ]
     },
     "execution_count": 73,
     "metadata": {},
     "output_type": "execute_result"
    }
   ],
   "source": [
    "X_train.head()\n"
   ]
  },
  {
   "cell_type": "code",
   "execution_count": 74,
   "id": "62fc4e00",
   "metadata": {
    "execution": {
     "iopub.execute_input": "2022-06-18T19:10:27.859498Z",
     "iopub.status.busy": "2022-06-18T19:10:27.858834Z",
     "iopub.status.idle": "2022-06-18T19:10:27.875692Z",
     "shell.execute_reply": "2022-06-18T19:10:27.874998Z"
    },
    "papermill": {
     "duration": 0.063665,
     "end_time": "2022-06-18T19:10:27.877792",
     "exception": false,
     "start_time": "2022-06-18T19:10:27.814127",
     "status": "completed"
    },
    "tags": []
   },
   "outputs": [
    {
     "data": {
      "text/html": [
       "<div>\n",
       "<style scoped>\n",
       "    .dataframe tbody tr th:only-of-type {\n",
       "        vertical-align: middle;\n",
       "    }\n",
       "\n",
       "    .dataframe tbody tr th {\n",
       "        vertical-align: top;\n",
       "    }\n",
       "\n",
       "    .dataframe thead th {\n",
       "        text-align: right;\n",
       "    }\n",
       "</style>\n",
       "<table border=\"1\" class=\"dataframe\">\n",
       "  <thead>\n",
       "    <tr style=\"text-align: right;\">\n",
       "      <th></th>\n",
       "      <th>PassengerId</th>\n",
       "      <th>Pclass</th>\n",
       "      <th>Name</th>\n",
       "      <th>Sex</th>\n",
       "      <th>Age</th>\n",
       "      <th>SibSp</th>\n",
       "      <th>Parch</th>\n",
       "      <th>Ticket</th>\n",
       "      <th>Fare</th>\n",
       "      <th>Cabin</th>\n",
       "      <th>Embarked</th>\n",
       "    </tr>\n",
       "  </thead>\n",
       "  <tbody>\n",
       "    <tr>\n",
       "      <th>0</th>\n",
       "      <td>892</td>\n",
       "      <td>3</td>\n",
       "      <td>Kelly, Mr. James</td>\n",
       "      <td>male</td>\n",
       "      <td>34.5</td>\n",
       "      <td>0</td>\n",
       "      <td>0</td>\n",
       "      <td>330911</td>\n",
       "      <td>7.8292</td>\n",
       "      <td>NaN</td>\n",
       "      <td>Q</td>\n",
       "    </tr>\n",
       "    <tr>\n",
       "      <th>1</th>\n",
       "      <td>893</td>\n",
       "      <td>3</td>\n",
       "      <td>Wilkes, Mrs. James (Ellen Needs)</td>\n",
       "      <td>female</td>\n",
       "      <td>47.0</td>\n",
       "      <td>1</td>\n",
       "      <td>0</td>\n",
       "      <td>363272</td>\n",
       "      <td>7.0000</td>\n",
       "      <td>NaN</td>\n",
       "      <td>S</td>\n",
       "    </tr>\n",
       "    <tr>\n",
       "      <th>2</th>\n",
       "      <td>894</td>\n",
       "      <td>2</td>\n",
       "      <td>Myles, Mr. Thomas Francis</td>\n",
       "      <td>male</td>\n",
       "      <td>62.0</td>\n",
       "      <td>0</td>\n",
       "      <td>0</td>\n",
       "      <td>240276</td>\n",
       "      <td>9.6875</td>\n",
       "      <td>NaN</td>\n",
       "      <td>Q</td>\n",
       "    </tr>\n",
       "    <tr>\n",
       "      <th>3</th>\n",
       "      <td>895</td>\n",
       "      <td>3</td>\n",
       "      <td>Wirz, Mr. Albert</td>\n",
       "      <td>male</td>\n",
       "      <td>27.0</td>\n",
       "      <td>0</td>\n",
       "      <td>0</td>\n",
       "      <td>315154</td>\n",
       "      <td>8.6625</td>\n",
       "      <td>NaN</td>\n",
       "      <td>S</td>\n",
       "    </tr>\n",
       "    <tr>\n",
       "      <th>4</th>\n",
       "      <td>896</td>\n",
       "      <td>3</td>\n",
       "      <td>Hirvonen, Mrs. Alexander (Helga E Lindqvist)</td>\n",
       "      <td>female</td>\n",
       "      <td>22.0</td>\n",
       "      <td>1</td>\n",
       "      <td>1</td>\n",
       "      <td>3101298</td>\n",
       "      <td>12.2875</td>\n",
       "      <td>NaN</td>\n",
       "      <td>S</td>\n",
       "    </tr>\n",
       "  </tbody>\n",
       "</table>\n",
       "</div>"
      ],
      "text/plain": [
       "   PassengerId  Pclass                                          Name     Sex   Age  SibSp  Parch   Ticket     Fare Cabin Embarked\n",
       "0          892       3                              Kelly, Mr. James    male  34.5      0      0   330911   7.8292   NaN        Q\n",
       "1          893       3              Wilkes, Mrs. James (Ellen Needs)  female  47.0      1      0   363272   7.0000   NaN        S\n",
       "2          894       2                     Myles, Mr. Thomas Francis    male  62.0      0      0   240276   9.6875   NaN        Q\n",
       "3          895       3                              Wirz, Mr. Albert    male  27.0      0      0   315154   8.6625   NaN        S\n",
       "4          896       3  Hirvonen, Mrs. Alexander (Helga E Lindqvist)  female  22.0      1      1  3101298  12.2875   NaN        S"
      ]
     },
     "execution_count": 74,
     "metadata": {},
     "output_type": "execute_result"
    }
   ],
   "source": [
    "test_df.head()"
   ]
  },
  {
   "cell_type": "code",
   "execution_count": 75,
   "id": "7db4b436",
   "metadata": {
    "execution": {
     "iopub.execute_input": "2022-06-18T19:10:27.969368Z",
     "iopub.status.busy": "2022-06-18T19:10:27.968329Z",
     "iopub.status.idle": "2022-06-18T19:10:27.972555Z",
     "shell.execute_reply": "2022-06-18T19:10:27.971873Z"
    },
    "papermill": {
     "duration": 0.052353,
     "end_time": "2022-06-18T19:10:27.974505",
     "exception": false,
     "start_time": "2022-06-18T19:10:27.922152",
     "status": "completed"
    },
    "tags": []
   },
   "outputs": [],
   "source": [
    "train_columns = X_train.columns"
   ]
  },
  {
   "cell_type": "code",
   "execution_count": 76,
   "id": "8035185b",
   "metadata": {
    "execution": {
     "iopub.execute_input": "2022-06-18T19:10:28.065891Z",
     "iopub.status.busy": "2022-06-18T19:10:28.065051Z",
     "iopub.status.idle": "2022-06-18T19:10:28.070504Z",
     "shell.execute_reply": "2022-06-18T19:10:28.069802Z"
    },
    "papermill": {
     "duration": 0.053314,
     "end_time": "2022-06-18T19:10:28.072746",
     "exception": false,
     "start_time": "2022-06-18T19:10:28.019432",
     "status": "completed"
    },
    "tags": []
   },
   "outputs": [],
   "source": [
    "X_test = test_df[train_columns]"
   ]
  },
  {
   "cell_type": "code",
   "execution_count": 77,
   "id": "7fbc966b",
   "metadata": {
    "execution": {
     "iopub.execute_input": "2022-06-18T19:10:28.162962Z",
     "iopub.status.busy": "2022-06-18T19:10:28.162361Z",
     "iopub.status.idle": "2022-06-18T19:10:28.168808Z",
     "shell.execute_reply": "2022-06-18T19:10:28.167987Z"
    },
    "papermill": {
     "duration": 0.054128,
     "end_time": "2022-06-18T19:10:28.170985",
     "exception": false,
     "start_time": "2022-06-18T19:10:28.116857",
     "status": "completed"
    },
    "tags": []
   },
   "outputs": [],
   "source": [
    "X_test = X_test.apply(LabelEncoder().fit_transform)"
   ]
  },
  {
   "cell_type": "code",
   "execution_count": 78,
   "id": "fbe4ce69",
   "metadata": {
    "execution": {
     "iopub.execute_input": "2022-06-18T19:10:28.264192Z",
     "iopub.status.busy": "2022-06-18T19:10:28.263279Z",
     "iopub.status.idle": "2022-06-18T19:10:28.274021Z",
     "shell.execute_reply": "2022-06-18T19:10:28.273236Z"
    },
    "papermill": {
     "duration": 0.059704,
     "end_time": "2022-06-18T19:10:28.276108",
     "exception": false,
     "start_time": "2022-06-18T19:10:28.216404",
     "status": "completed"
    },
    "tags": []
   },
   "outputs": [
    {
     "data": {
      "text/html": [
       "<div>\n",
       "<style scoped>\n",
       "    .dataframe tbody tr th:only-of-type {\n",
       "        vertical-align: middle;\n",
       "    }\n",
       "\n",
       "    .dataframe tbody tr th {\n",
       "        vertical-align: top;\n",
       "    }\n",
       "\n",
       "    .dataframe thead th {\n",
       "        text-align: right;\n",
       "    }\n",
       "</style>\n",
       "<table border=\"1\" class=\"dataframe\">\n",
       "  <thead>\n",
       "    <tr style=\"text-align: right;\">\n",
       "      <th></th>\n",
       "      <th>Pclass</th>\n",
       "      <th>Sex</th>\n",
       "      <th>SibSp</th>\n",
       "      <th>Parch</th>\n",
       "      <th>Fare</th>\n",
       "      <th>Embarked</th>\n",
       "    </tr>\n",
       "  </thead>\n",
       "  <tbody>\n",
       "    <tr>\n",
       "      <th>0</th>\n",
       "      <td>2</td>\n",
       "      <td>1</td>\n",
       "      <td>0</td>\n",
       "      <td>0</td>\n",
       "      <td>24</td>\n",
       "      <td>1</td>\n",
       "    </tr>\n",
       "    <tr>\n",
       "      <th>1</th>\n",
       "      <td>2</td>\n",
       "      <td>0</td>\n",
       "      <td>1</td>\n",
       "      <td>0</td>\n",
       "      <td>5</td>\n",
       "      <td>2</td>\n",
       "    </tr>\n",
       "    <tr>\n",
       "      <th>2</th>\n",
       "      <td>1</td>\n",
       "      <td>1</td>\n",
       "      <td>0</td>\n",
       "      <td>0</td>\n",
       "      <td>41</td>\n",
       "      <td>1</td>\n",
       "    </tr>\n",
       "    <tr>\n",
       "      <th>3</th>\n",
       "      <td>2</td>\n",
       "      <td>1</td>\n",
       "      <td>0</td>\n",
       "      <td>0</td>\n",
       "      <td>34</td>\n",
       "      <td>2</td>\n",
       "    </tr>\n",
       "    <tr>\n",
       "      <th>4</th>\n",
       "      <td>2</td>\n",
       "      <td>0</td>\n",
       "      <td>1</td>\n",
       "      <td>1</td>\n",
       "      <td>46</td>\n",
       "      <td>2</td>\n",
       "    </tr>\n",
       "  </tbody>\n",
       "</table>\n",
       "</div>"
      ],
      "text/plain": [
       "   Pclass  Sex  SibSp  Parch  Fare  Embarked\n",
       "0       2    1      0      0    24         1\n",
       "1       2    0      1      0     5         2\n",
       "2       1    1      0      0    41         1\n",
       "3       2    1      0      0    34         2\n",
       "4       2    0      1      1    46         2"
      ]
     },
     "execution_count": 78,
     "metadata": {},
     "output_type": "execute_result"
    }
   ],
   "source": [
    "X_test.head()"
   ]
  },
  {
   "cell_type": "code",
   "execution_count": 79,
   "id": "e6731a6c",
   "metadata": {
    "execution": {
     "iopub.execute_input": "2022-06-18T19:10:28.396518Z",
     "iopub.status.busy": "2022-06-18T19:10:28.395601Z",
     "iopub.status.idle": "2022-06-18T19:10:28.402676Z",
     "shell.execute_reply": "2022-06-18T19:10:28.402003Z"
    },
    "papermill": {
     "duration": 0.083895,
     "end_time": "2022-06-18T19:10:28.404708",
     "exception": false,
     "start_time": "2022-06-18T19:10:28.320813",
     "status": "completed"
    },
    "tags": []
   },
   "outputs": [],
   "source": [
    "predictions = gbt.predict(X_test)"
   ]
  },
  {
   "cell_type": "markdown",
   "id": "c39a4df8",
   "metadata": {
    "papermill": {
     "duration": 0.044391,
     "end_time": "2022-06-18T19:10:28.493450",
     "exception": false,
     "start_time": "2022-06-18T19:10:28.449059",
     "status": "completed"
    },
    "tags": []
   },
   "source": [
    "to do : hyperparametrization\n"
   ]
  },
  {
   "cell_type": "code",
   "execution_count": 80,
   "id": "a0e21d15",
   "metadata": {
    "execution": {
     "iopub.execute_input": "2022-06-18T19:10:28.584060Z",
     "iopub.status.busy": "2022-06-18T19:10:28.583615Z",
     "iopub.status.idle": "2022-06-18T19:10:28.589628Z",
     "shell.execute_reply": "2022-06-18T19:10:28.588853Z"
    },
    "papermill": {
     "duration": 0.053272,
     "end_time": "2022-06-18T19:10:28.591736",
     "exception": false,
     "start_time": "2022-06-18T19:10:28.538464",
     "status": "completed"
    },
    "tags": []
   },
   "outputs": [
    {
     "data": {
      "text/plain": [
       "array([0, 0, 0, 0, 0, 0, 1, 0, 0, 0, 0, 0, 1, 0, 1, 1, 0, 0, 0, 0])"
      ]
     },
     "execution_count": 80,
     "metadata": {},
     "output_type": "execute_result"
    }
   ],
   "source": [
    "predictions[:20]"
   ]
  },
  {
   "cell_type": "code",
   "execution_count": 81,
   "id": "a4ff4fde",
   "metadata": {
    "execution": {
     "iopub.execute_input": "2022-06-18T19:10:28.682102Z",
     "iopub.status.busy": "2022-06-18T19:10:28.681446Z",
     "iopub.status.idle": "2022-06-18T19:10:28.692842Z",
     "shell.execute_reply": "2022-06-18T19:10:28.692052Z"
    },
    "papermill": {
     "duration": 0.058964,
     "end_time": "2022-06-18T19:10:28.695030",
     "exception": false,
     "start_time": "2022-06-18T19:10:28.636066",
     "status": "completed"
    },
    "tags": []
   },
   "outputs": [
    {
     "data": {
      "text/html": [
       "<div>\n",
       "<style scoped>\n",
       "    .dataframe tbody tr th:only-of-type {\n",
       "        vertical-align: middle;\n",
       "    }\n",
       "\n",
       "    .dataframe tbody tr th {\n",
       "        vertical-align: top;\n",
       "    }\n",
       "\n",
       "    .dataframe thead th {\n",
       "        text-align: right;\n",
       "    }\n",
       "</style>\n",
       "<table border=\"1\" class=\"dataframe\">\n",
       "  <thead>\n",
       "    <tr style=\"text-align: right;\">\n",
       "      <th></th>\n",
       "      <th>PassengerId</th>\n",
       "      <th>Survived</th>\n",
       "    </tr>\n",
       "  </thead>\n",
       "  <tbody>\n",
       "    <tr>\n",
       "      <th>0</th>\n",
       "      <td>892</td>\n",
       "      <td>0</td>\n",
       "    </tr>\n",
       "    <tr>\n",
       "      <th>1</th>\n",
       "      <td>893</td>\n",
       "      <td>0</td>\n",
       "    </tr>\n",
       "    <tr>\n",
       "      <th>2</th>\n",
       "      <td>894</td>\n",
       "      <td>0</td>\n",
       "    </tr>\n",
       "    <tr>\n",
       "      <th>3</th>\n",
       "      <td>895</td>\n",
       "      <td>0</td>\n",
       "    </tr>\n",
       "    <tr>\n",
       "      <th>4</th>\n",
       "      <td>896</td>\n",
       "      <td>0</td>\n",
       "    </tr>\n",
       "  </tbody>\n",
       "</table>\n",
       "</div>"
      ],
      "text/plain": [
       "   PassengerId  Survived\n",
       "0          892         0\n",
       "1          893         0\n",
       "2          894         0\n",
       "3          895         0\n",
       "4          896         0"
      ]
     },
     "execution_count": 81,
     "metadata": {},
     "output_type": "execute_result"
    }
   ],
   "source": [
    "submission = pd.DataFrame()\n",
    "submission['PassengerId'] = test_df['PassengerId']\n",
    "submission['Survived'] = predictions\n",
    "submission.head()"
   ]
  },
  {
   "cell_type": "code",
   "execution_count": 82,
   "id": "f6767272",
   "metadata": {
    "execution": {
     "iopub.execute_input": "2022-06-18T19:10:28.785465Z",
     "iopub.status.busy": "2022-06-18T19:10:28.785082Z",
     "iopub.status.idle": "2022-06-18T19:10:28.790342Z",
     "shell.execute_reply": "2022-06-18T19:10:28.789361Z"
    },
    "papermill": {
     "duration": 0.053026,
     "end_time": "2022-06-18T19:10:28.792623",
     "exception": false,
     "start_time": "2022-06-18T19:10:28.739597",
     "status": "completed"
    },
    "tags": []
   },
   "outputs": [],
   "source": [
    "submission['Survived'] = submission['Survived'].astype(int)"
   ]
  },
  {
   "cell_type": "code",
   "execution_count": 83,
   "id": "fd37707c",
   "metadata": {
    "execution": {
     "iopub.execute_input": "2022-06-18T19:10:28.884409Z",
     "iopub.status.busy": "2022-06-18T19:10:28.883576Z",
     "iopub.status.idle": "2022-06-18T19:10:28.892794Z",
     "shell.execute_reply": "2022-06-18T19:10:28.892058Z"
    },
    "papermill": {
     "duration": 0.057571,
     "end_time": "2022-06-18T19:10:28.894863",
     "exception": false,
     "start_time": "2022-06-18T19:10:28.837292",
     "status": "completed"
    },
    "tags": []
   },
   "outputs": [
    {
     "data": {
      "text/html": [
       "<div>\n",
       "<style scoped>\n",
       "    .dataframe tbody tr th:only-of-type {\n",
       "        vertical-align: middle;\n",
       "    }\n",
       "\n",
       "    .dataframe tbody tr th {\n",
       "        vertical-align: top;\n",
       "    }\n",
       "\n",
       "    .dataframe thead th {\n",
       "        text-align: right;\n",
       "    }\n",
       "</style>\n",
       "<table border=\"1\" class=\"dataframe\">\n",
       "  <thead>\n",
       "    <tr style=\"text-align: right;\">\n",
       "      <th></th>\n",
       "      <th>PassengerId</th>\n",
       "      <th>Survived</th>\n",
       "    </tr>\n",
       "  </thead>\n",
       "  <tbody>\n",
       "    <tr>\n",
       "      <th>0</th>\n",
       "      <td>892</td>\n",
       "      <td>0</td>\n",
       "    </tr>\n",
       "    <tr>\n",
       "      <th>1</th>\n",
       "      <td>893</td>\n",
       "      <td>0</td>\n",
       "    </tr>\n",
       "    <tr>\n",
       "      <th>2</th>\n",
       "      <td>894</td>\n",
       "      <td>0</td>\n",
       "    </tr>\n",
       "    <tr>\n",
       "      <th>3</th>\n",
       "      <td>895</td>\n",
       "      <td>0</td>\n",
       "    </tr>\n",
       "    <tr>\n",
       "      <th>4</th>\n",
       "      <td>896</td>\n",
       "      <td>0</td>\n",
       "    </tr>\n",
       "  </tbody>\n",
       "</table>\n",
       "</div>"
      ],
      "text/plain": [
       "   PassengerId  Survived\n",
       "0          892         0\n",
       "1          893         0\n",
       "2          894         0\n",
       "3          895         0\n",
       "4          896         0"
      ]
     },
     "execution_count": 83,
     "metadata": {},
     "output_type": "execute_result"
    }
   ],
   "source": [
    "submission.head()"
   ]
  },
  {
   "cell_type": "code",
   "execution_count": 84,
   "id": "82ed9a24",
   "metadata": {
    "execution": {
     "iopub.execute_input": "2022-06-18T19:10:28.988154Z",
     "iopub.status.busy": "2022-06-18T19:10:28.987568Z",
     "iopub.status.idle": "2022-06-18T19:10:28.995842Z",
     "shell.execute_reply": "2022-06-18T19:10:28.995069Z"
    },
    "papermill": {
     "duration": 0.057215,
     "end_time": "2022-06-18T19:10:28.998154",
     "exception": false,
     "start_time": "2022-06-18T19:10:28.940939",
     "status": "completed"
    },
    "tags": []
   },
   "outputs": [],
   "source": [
    "submission.to_csv('./gbt_submission.csv', index=False)"
   ]
  },
  {
   "cell_type": "markdown",
   "id": "fe91b5b3",
   "metadata": {
    "papermill": {
     "duration": 0.045027,
     "end_time": "2022-06-18T19:10:29.088126",
     "exception": false,
     "start_time": "2022-06-18T19:10:29.043099",
     "status": "completed"
    },
    "tags": []
   },
   "source": []
  }
 ],
 "metadata": {
  "kernelspec": {
   "display_name": "Python 3.9.7 ('base')",
   "language": "python",
   "name": "python3"
  },
  "language_info": {
   "codemirror_mode": {
    "name": "ipython",
    "version": 3
   },
   "file_extension": ".py",
   "mimetype": "text/x-python",
   "name": "python",
   "nbconvert_exporter": "python",
   "pygments_lexer": "ipython3",
   "version": "3.9.7"
  },
  "papermill": {
   "default_parameters": {},
   "duration": 64.404479,
   "end_time": "2022-06-18T19:10:31.753361",
   "environment_variables": {},
   "exception": null,
   "input_path": "__notebook__.ipynb",
   "output_path": "__notebook__.ipynb",
   "parameters": {},
   "start_time": "2022-06-18T19:09:27.348882",
   "version": "2.3.4"
  },
  "vscode": {
   "interpreter": {
    "hash": "dfb17d3d63b1f01241dc6860688cd532d3cc049680ee6e21a2a3b0c0a02bb0d5"
   }
  }
 },
 "nbformat": 4,
 "nbformat_minor": 5
}
